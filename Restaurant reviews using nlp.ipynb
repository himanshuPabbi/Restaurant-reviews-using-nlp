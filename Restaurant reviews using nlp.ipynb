{
 "cells": [
  {
   "cell_type": "code",
   "execution_count": 1,
   "id": "1b229fe3",
   "metadata": {},
   "outputs": [],
   "source": [
    "import pandas as pd"
   ]
  },
  {
   "cell_type": "code",
   "execution_count": 2,
   "id": "630de815",
   "metadata": {},
   "outputs": [],
   "source": [
    "import numpy as np"
   ]
  },
  {
   "cell_type": "code",
   "execution_count": 3,
   "id": "c58bd9f1",
   "metadata": {},
   "outputs": [],
   "source": [
    "import matplotlib.pyplot as plt"
   ]
  },
  {
   "cell_type": "code",
   "execution_count": 4,
   "id": "73c8586e",
   "metadata": {},
   "outputs": [],
   "source": [
    "from sklearn.preprocessing import LabelEncoder"
   ]
  },
  {
   "cell_type": "code",
   "execution_count": 5,
   "id": "8dd1be2c",
   "metadata": {},
   "outputs": [],
   "source": [
    "from sklearn.feature_extraction.text import TfidfVectorizer"
   ]
  },
  {
   "cell_type": "code",
   "execution_count": 6,
   "id": "0b55b3e8",
   "metadata": {},
   "outputs": [],
   "source": [
    "from sklearn.model_selection import train_test_split"
   ]
  },
  {
   "cell_type": "code",
   "execution_count": 7,
   "id": "3f6a8760",
   "metadata": {},
   "outputs": [],
   "source": [
    "from sklearn.ensemble import RandomForestClassifier"
   ]
  },
  {
   "cell_type": "code",
   "execution_count": 8,
   "id": "bbe7b785",
   "metadata": {},
   "outputs": [],
   "source": [
    "from sklearn.metrics import accuracy_score,confusion_matrix,classification_report"
   ]
  },
  {
   "cell_type": "code",
   "execution_count": 9,
   "id": "e57811c6",
   "metadata": {},
   "outputs": [],
   "source": [
    "import seaborn as sns"
   ]
  },
  {
   "cell_type": "code",
   "execution_count": 10,
   "id": "d5a56294",
   "metadata": {},
   "outputs": [],
   "source": [
    "from wordcloud import WordCloud"
   ]
  },
  {
   "cell_type": "code",
   "execution_count": 11,
   "id": "96c7f04d",
   "metadata": {},
   "outputs": [],
   "source": [
    "from collections import Counter"
   ]
  },
  {
   "cell_type": "code",
   "execution_count": 12,
   "id": "ceaa1260",
   "metadata": {},
   "outputs": [],
   "source": [
    "from nltk.stem import PorterStemmer"
   ]
  },
  {
   "cell_type": "code",
   "execution_count": 13,
   "id": "0c604cd2",
   "metadata": {},
   "outputs": [],
   "source": [
    "from sklearn.linear_model import LogisticRegression "
   ]
  },
  {
   "cell_type": "code",
   "execution_count": 14,
   "id": "1f0e67f4",
   "metadata": {},
   "outputs": [],
   "source": [
    "from sklearn.neighbors import KNeighborsClassifier"
   ]
  },
  {
   "cell_type": "code",
   "execution_count": 15,
   "id": "d56e790c",
   "metadata": {},
   "outputs": [],
   "source": [
    "import xgboost as xgb"
   ]
  },
  {
   "cell_type": "code",
   "execution_count": 16,
   "id": "2529e73b",
   "metadata": {},
   "outputs": [],
   "source": [
    "import nltk"
   ]
  },
  {
   "cell_type": "code",
   "execution_count": 17,
   "id": "ab3fbc7f",
   "metadata": {},
   "outputs": [],
   "source": [
    "from nltk.corpus import stopwords"
   ]
  },
  {
   "cell_type": "code",
   "execution_count": 18,
   "id": "78b2c920",
   "metadata": {},
   "outputs": [],
   "source": [
    "import string"
   ]
  },
  {
   "cell_type": "code",
   "execution_count": 19,
   "id": "72e70faf",
   "metadata": {},
   "outputs": [],
   "source": [
    "from nltk.stem import PorterStemmer"
   ]
  },
  {
   "cell_type": "code",
   "execution_count": 20,
   "id": "2569737d",
   "metadata": {},
   "outputs": [],
   "source": [
    "df = pd.read_csv('Restaurant_Reviews.tsv', delimiter = '\\t', quoting = 3)"
   ]
  },
  {
   "cell_type": "code",
   "execution_count": 21,
   "id": "fa6f3595",
   "metadata": {},
   "outputs": [
    {
     "data": {
      "text/html": [
       "<div>\n",
       "<style scoped>\n",
       "    .dataframe tbody tr th:only-of-type {\n",
       "        vertical-align: middle;\n",
       "    }\n",
       "\n",
       "    .dataframe tbody tr th {\n",
       "        vertical-align: top;\n",
       "    }\n",
       "\n",
       "    .dataframe thead th {\n",
       "        text-align: right;\n",
       "    }\n",
       "</style>\n",
       "<table border=\"1\" class=\"dataframe\">\n",
       "  <thead>\n",
       "    <tr style=\"text-align: right;\">\n",
       "      <th></th>\n",
       "      <th>Review</th>\n",
       "      <th>Liked</th>\n",
       "    </tr>\n",
       "  </thead>\n",
       "  <tbody>\n",
       "    <tr>\n",
       "      <th>0</th>\n",
       "      <td>Wow... Loved this place.</td>\n",
       "      <td>1</td>\n",
       "    </tr>\n",
       "    <tr>\n",
       "      <th>1</th>\n",
       "      <td>Crust is not good.</td>\n",
       "      <td>0</td>\n",
       "    </tr>\n",
       "    <tr>\n",
       "      <th>2</th>\n",
       "      <td>Not tasty and the texture was just nasty.</td>\n",
       "      <td>0</td>\n",
       "    </tr>\n",
       "    <tr>\n",
       "      <th>3</th>\n",
       "      <td>Stopped by during the late May bank holiday of...</td>\n",
       "      <td>1</td>\n",
       "    </tr>\n",
       "    <tr>\n",
       "      <th>4</th>\n",
       "      <td>The selection on the menu was great and so wer...</td>\n",
       "      <td>1</td>\n",
       "    </tr>\n",
       "    <tr>\n",
       "      <th>...</th>\n",
       "      <td>...</td>\n",
       "      <td>...</td>\n",
       "    </tr>\n",
       "    <tr>\n",
       "      <th>995</th>\n",
       "      <td>I think food should have flavor and texture an...</td>\n",
       "      <td>0</td>\n",
       "    </tr>\n",
       "    <tr>\n",
       "      <th>996</th>\n",
       "      <td>Appetite instantly gone.</td>\n",
       "      <td>0</td>\n",
       "    </tr>\n",
       "    <tr>\n",
       "      <th>997</th>\n",
       "      <td>Overall I was not impressed and would not go b...</td>\n",
       "      <td>0</td>\n",
       "    </tr>\n",
       "    <tr>\n",
       "      <th>998</th>\n",
       "      <td>The whole experience was underwhelming, and I ...</td>\n",
       "      <td>0</td>\n",
       "    </tr>\n",
       "    <tr>\n",
       "      <th>999</th>\n",
       "      <td>Then, as if I hadn't wasted enough of my life ...</td>\n",
       "      <td>0</td>\n",
       "    </tr>\n",
       "  </tbody>\n",
       "</table>\n",
       "<p>1000 rows × 2 columns</p>\n",
       "</div>"
      ],
      "text/plain": [
       "                                                Review  Liked\n",
       "0                             Wow... Loved this place.      1\n",
       "1                                   Crust is not good.      0\n",
       "2            Not tasty and the texture was just nasty.      0\n",
       "3    Stopped by during the late May bank holiday of...      1\n",
       "4    The selection on the menu was great and so wer...      1\n",
       "..                                                 ...    ...\n",
       "995  I think food should have flavor and texture an...      0\n",
       "996                           Appetite instantly gone.      0\n",
       "997  Overall I was not impressed and would not go b...      0\n",
       "998  The whole experience was underwhelming, and I ...      0\n",
       "999  Then, as if I hadn't wasted enough of my life ...      0\n",
       "\n",
       "[1000 rows x 2 columns]"
      ]
     },
     "execution_count": 21,
     "metadata": {},
     "output_type": "execute_result"
    }
   ],
   "source": [
    "df"
   ]
  },
  {
   "cell_type": "code",
   "execution_count": 22,
   "id": "24743402",
   "metadata": {},
   "outputs": [
    {
     "name": "stdout",
     "output_type": "stream",
     "text": [
      "<class 'pandas.core.frame.DataFrame'>\n",
      "RangeIndex: 1000 entries, 0 to 999\n",
      "Data columns (total 2 columns):\n",
      " #   Column  Non-Null Count  Dtype \n",
      "---  ------  --------------  ----- \n",
      " 0   Review  1000 non-null   object\n",
      " 1   Liked   1000 non-null   int64 \n",
      "dtypes: int64(1), object(1)\n",
      "memory usage: 15.8+ KB\n"
     ]
    }
   ],
   "source": [
    "df.info()"
   ]
  },
  {
   "cell_type": "code",
   "execution_count": 23,
   "id": "5572a696",
   "metadata": {},
   "outputs": [
    {
     "data": {
      "text/html": [
       "<div>\n",
       "<style scoped>\n",
       "    .dataframe tbody tr th:only-of-type {\n",
       "        vertical-align: middle;\n",
       "    }\n",
       "\n",
       "    .dataframe tbody tr th {\n",
       "        vertical-align: top;\n",
       "    }\n",
       "\n",
       "    .dataframe thead th {\n",
       "        text-align: right;\n",
       "    }\n",
       "</style>\n",
       "<table border=\"1\" class=\"dataframe\">\n",
       "  <thead>\n",
       "    <tr style=\"text-align: right;\">\n",
       "      <th></th>\n",
       "      <th>Review</th>\n",
       "      <th>Liked</th>\n",
       "    </tr>\n",
       "  </thead>\n",
       "  <tbody>\n",
       "    <tr>\n",
       "      <th>count</th>\n",
       "      <td>1000</td>\n",
       "      <td>1000.00000</td>\n",
       "    </tr>\n",
       "    <tr>\n",
       "      <th>unique</th>\n",
       "      <td>996</td>\n",
       "      <td>NaN</td>\n",
       "    </tr>\n",
       "    <tr>\n",
       "      <th>top</th>\n",
       "      <td>I would not recommend this place.</td>\n",
       "      <td>NaN</td>\n",
       "    </tr>\n",
       "    <tr>\n",
       "      <th>freq</th>\n",
       "      <td>2</td>\n",
       "      <td>NaN</td>\n",
       "    </tr>\n",
       "    <tr>\n",
       "      <th>mean</th>\n",
       "      <td>NaN</td>\n",
       "      <td>0.50000</td>\n",
       "    </tr>\n",
       "    <tr>\n",
       "      <th>std</th>\n",
       "      <td>NaN</td>\n",
       "      <td>0.50025</td>\n",
       "    </tr>\n",
       "    <tr>\n",
       "      <th>min</th>\n",
       "      <td>NaN</td>\n",
       "      <td>0.00000</td>\n",
       "    </tr>\n",
       "    <tr>\n",
       "      <th>25%</th>\n",
       "      <td>NaN</td>\n",
       "      <td>0.00000</td>\n",
       "    </tr>\n",
       "    <tr>\n",
       "      <th>50%</th>\n",
       "      <td>NaN</td>\n",
       "      <td>0.50000</td>\n",
       "    </tr>\n",
       "    <tr>\n",
       "      <th>75%</th>\n",
       "      <td>NaN</td>\n",
       "      <td>1.00000</td>\n",
       "    </tr>\n",
       "    <tr>\n",
       "      <th>max</th>\n",
       "      <td>NaN</td>\n",
       "      <td>1.00000</td>\n",
       "    </tr>\n",
       "  </tbody>\n",
       "</table>\n",
       "</div>"
      ],
      "text/plain": [
       "                                   Review       Liked\n",
       "count                                1000  1000.00000\n",
       "unique                                996         NaN\n",
       "top     I would not recommend this place.         NaN\n",
       "freq                                    2         NaN\n",
       "mean                                  NaN     0.50000\n",
       "std                                   NaN     0.50025\n",
       "min                                   NaN     0.00000\n",
       "25%                                   NaN     0.00000\n",
       "50%                                   NaN     0.50000\n",
       "75%                                   NaN     1.00000\n",
       "max                                   NaN     1.00000"
      ]
     },
     "execution_count": 23,
     "metadata": {},
     "output_type": "execute_result"
    }
   ],
   "source": [
    "df.describe(include=\"all\")"
   ]
  },
  {
   "cell_type": "code",
   "execution_count": 24,
   "id": "6a521c30",
   "metadata": {},
   "outputs": [
    {
     "data": {
      "text/plain": [
       "Index(['Review', 'Liked'], dtype='object')"
      ]
     },
     "execution_count": 24,
     "metadata": {},
     "output_type": "execute_result"
    }
   ],
   "source": [
    "df.columns"
   ]
  },
  {
   "cell_type": "code",
   "execution_count": 25,
   "id": "b8923d44",
   "metadata": {},
   "outputs": [
    {
     "data": {
      "text/plain": [
       "(1000, 2)"
      ]
     },
     "execution_count": 25,
     "metadata": {},
     "output_type": "execute_result"
    }
   ],
   "source": [
    "df.shape"
   ]
  },
  {
   "cell_type": "code",
   "execution_count": 26,
   "id": "ec2820a2",
   "metadata": {
    "scrolled": false
   },
   "outputs": [
    {
     "data": {
      "image/png": "[encoded data removed]",
      "text/plain": [
       "<Figure size 720x360 with 1 Axes>"
      ]
     },
     "metadata": {
      "needs_background": "light"
     },
     "output_type": "display_data"
    }
   ],
   "source": [
    "wordcloud = WordCloud(width=800, height=400, background_color='white').generate(' '.join(df['Review']))\n",
    "\n",
    "# Show the word cloud\n",
    "plt.figure(figsize=(10, 5))\n",
    "plt.imshow(wordcloud, interpolation='bilinear')\n",
    "plt.axis('off')\n",
    "plt.show()"
   ]
  },
  {
   "cell_type": "code",
   "execution_count": 27,
   "id": "9054f00b",
   "metadata": {},
   "outputs": [
    {
     "name": "stderr",
     "output_type": "stream",
     "text": [
      "[nltk_data] Downloading package stopwords to\n",
      "[nltk_data]     C:\\Users\\himanshu\\AppData\\Roaming\\nltk_data...\n",
      "[nltk_data]   Package stopwords is already up-to-date!\n"
     ]
    },
    {
     "data": {
      "text/plain": [
       "True"
      ]
     },
     "execution_count": 27,
     "metadata": {},
     "output_type": "execute_result"
    }
   ],
   "source": [
    "nltk.download('stopwords')"
   ]
  },
  {
   "cell_type": "code",
   "execution_count": 28,
   "id": "576ebd44",
   "metadata": {},
   "outputs": [],
   "source": [
    "ps=PorterStemmer()"
   ]
  },
  {
   "cell_type": "markdown",
   "id": "806757f0",
   "metadata": {},
   "source": [
    "# Data Preprocessing"
   ]
  },
  {
   "cell_type": "markdown",
   "id": "2b955ae6",
   "metadata": {},
   "source": [
    "1. Lowercase\n",
    "2. Tokenization\n",
    "3. Removing special characters\n",
    "4. Removing stop words and punctuation\n",
    "5. stemming"
   ]
  },
  {
   "cell_type": "code",
   "execution_count": 29,
   "id": "37ebfe4c",
   "metadata": {},
   "outputs": [],
   "source": [
    "def transform_text(text):\n",
    "    text=text.lower()\n",
    "    text=nltk.word_tokenize(text)\n",
    "    \n",
    "    y=[]\n",
    "    \n",
    "    for i in text:\n",
    "        if i.isalnum():\n",
    "            y.append(i)\n",
    "    text=y[:]\n",
    "    \n",
    "    y.clear()\n",
    "    \n",
    "    for i in text:\n",
    "        if i not in stopwords.words('english') and i not in string.punctuation:\n",
    "            y.append(i)\n",
    "    text=y[:]\n",
    "    y.clear()\n",
    "    \n",
    "    for i in text:\n",
    "        y.append(ps.stem(i))\n",
    "    \n",
    "    return \" \".join(y)"
   ]
  },
  {
   "cell_type": "code",
   "execution_count": 30,
   "id": "fd9884cc",
   "metadata": {},
   "outputs": [],
   "source": [
    "df['Review']=df['Review'].apply(transform_text)"
   ]
  },
  {
   "cell_type": "code",
   "execution_count": 31,
   "id": "6c8bfcc4",
   "metadata": {},
   "outputs": [
    {
     "data": {
      "text/html": [
       "<div>\n",
       "<style scoped>\n",
       "    .dataframe tbody tr th:only-of-type {\n",
       "        vertical-align: middle;\n",
       "    }\n",
       "\n",
       "    .dataframe tbody tr th {\n",
       "        vertical-align: top;\n",
       "    }\n",
       "\n",
       "    .dataframe thead th {\n",
       "        text-align: right;\n",
       "    }\n",
       "</style>\n",
       "<table border=\"1\" class=\"dataframe\">\n",
       "  <thead>\n",
       "    <tr style=\"text-align: right;\">\n",
       "      <th></th>\n",
       "      <th>Review</th>\n",
       "      <th>Liked</th>\n",
       "    </tr>\n",
       "  </thead>\n",
       "  <tbody>\n",
       "    <tr>\n",
       "      <th>0</th>\n",
       "      <td>wow love place</td>\n",
       "      <td>1</td>\n",
       "    </tr>\n",
       "    <tr>\n",
       "      <th>1</th>\n",
       "      <td>crust good</td>\n",
       "      <td>0</td>\n",
       "    </tr>\n",
       "    <tr>\n",
       "      <th>2</th>\n",
       "      <td>tasti textur nasti</td>\n",
       "      <td>0</td>\n",
       "    </tr>\n",
       "    <tr>\n",
       "      <th>3</th>\n",
       "      <td>stop late may bank holiday rick steve recommen...</td>\n",
       "      <td>1</td>\n",
       "    </tr>\n",
       "    <tr>\n",
       "      <th>4</th>\n",
       "      <td>select menu great price</td>\n",
       "      <td>1</td>\n",
       "    </tr>\n",
       "    <tr>\n",
       "      <th>...</th>\n",
       "      <td>...</td>\n",
       "      <td>...</td>\n",
       "    </tr>\n",
       "    <tr>\n",
       "      <th>995</th>\n",
       "      <td>think food flavor textur lack</td>\n",
       "      <td>0</td>\n",
       "    </tr>\n",
       "    <tr>\n",
       "      <th>996</th>\n",
       "      <td>appetit instantli gone</td>\n",
       "      <td>0</td>\n",
       "    </tr>\n",
       "    <tr>\n",
       "      <th>997</th>\n",
       "      <td>overal impress would go back</td>\n",
       "      <td>0</td>\n",
       "    </tr>\n",
       "    <tr>\n",
       "      <th>998</th>\n",
       "      <td>whole experi underwhelm think go ninja sushi n...</td>\n",
       "      <td>0</td>\n",
       "    </tr>\n",
       "    <tr>\n",
       "      <th>999</th>\n",
       "      <td>wast enough life pour salt wound draw time too...</td>\n",
       "      <td>0</td>\n",
       "    </tr>\n",
       "  </tbody>\n",
       "</table>\n",
       "<p>1000 rows × 2 columns</p>\n",
       "</div>"
      ],
      "text/plain": [
       "                                                Review  Liked\n",
       "0                                       wow love place      1\n",
       "1                                           crust good      0\n",
       "2                                   tasti textur nasti      0\n",
       "3    stop late may bank holiday rick steve recommen...      1\n",
       "4                              select menu great price      1\n",
       "..                                                 ...    ...\n",
       "995                      think food flavor textur lack      0\n",
       "996                             appetit instantli gone      0\n",
       "997                       overal impress would go back      0\n",
       "998  whole experi underwhelm think go ninja sushi n...      0\n",
       "999  wast enough life pour salt wound draw time too...      0\n",
       "\n",
       "[1000 rows x 2 columns]"
      ]
     },
     "execution_count": 31,
     "metadata": {},
     "output_type": "execute_result"
    }
   ],
   "source": [
    "df"
   ]
  },
  {
   "cell_type": "code",
   "execution_count": 32,
   "id": "d37d621e",
   "metadata": {},
   "outputs": [],
   "source": [
    "word_freq = Counter(' '.join(df['Review']).split())\n"
   ]
  },
  {
   "cell_type": "code",
   "execution_count": 33,
   "id": "d3bae2f1",
   "metadata": {},
   "outputs": [
    {
     "data": {
      "text/plain": [
       "Counter({'wow': 3,\n",
       "         'love': 33,\n",
       "         'place': 112,\n",
       "         'crust': 2,\n",
       "         'good': 95,\n",
       "         'tasti': 11,\n",
       "         'textur': 3,\n",
       "         'nasti': 3,\n",
       "         'stop': 4,\n",
       "         'late': 2,\n",
       "         'may': 5,\n",
       "         'bank': 1,\n",
       "         'holiday': 1,\n",
       "         'rick': 1,\n",
       "         'steve': 1,\n",
       "         'recommend': 18,\n",
       "         'select': 12,\n",
       "         'menu': 15,\n",
       "         'great': 70,\n",
       "         'price': 21,\n",
       "         'get': 28,\n",
       "         'angri': 1,\n",
       "         'want': 17,\n",
       "         'damn': 4,\n",
       "         'pho': 6,\n",
       "         'honeslti': 1,\n",
       "         'tast': 22,\n",
       "         'fresh': 14,\n",
       "         'potato': 9,\n",
       "         'like': 51,\n",
       "         'rubber': 1,\n",
       "         'could': 19,\n",
       "         'tell': 6,\n",
       "         'made': 17,\n",
       "         'ahead': 1,\n",
       "         'time': 55,\n",
       "         'kept': 5,\n",
       "         'warmer': 1,\n",
       "         'fri': 16,\n",
       "         'touch': 3,\n",
       "         'servic': 84,\n",
       "         'prompt': 1,\n",
       "         'would': 32,\n",
       "         'go': 61,\n",
       "         'back': 61,\n",
       "         'cashier': 2,\n",
       "         'care': 4,\n",
       "         'ever': 28,\n",
       "         'say': 18,\n",
       "         'still': 11,\n",
       "         'end': 4,\n",
       "         'wayyy': 1,\n",
       "         'overpr': 7,\n",
       "         'tri': 17,\n",
       "         'cape': 1,\n",
       "         'cod': 1,\n",
       "         'ravoli': 1,\n",
       "         'chicken': 18,\n",
       "         'cranberri': 1,\n",
       "         'mmmm': 2,\n",
       "         'disgust': 4,\n",
       "         'pretti': 20,\n",
       "         'sure': 8,\n",
       "         'human': 2,\n",
       "         'hair': 2,\n",
       "         'shock': 1,\n",
       "         'sign': 2,\n",
       "         'indic': 1,\n",
       "         'cash': 1,\n",
       "         'highli': 4,\n",
       "         'waitress': 9,\n",
       "         'littl': 10,\n",
       "         'slow': 11,\n",
       "         'worth': 10,\n",
       "         'let': 4,\n",
       "         'alon': 1,\n",
       "         'vega': 22,\n",
       "         'burritto': 1,\n",
       "         'blah': 1,\n",
       "         'food': 126,\n",
       "         'amaz': 24,\n",
       "         'also': 27,\n",
       "         'cute': 2,\n",
       "         'less': 1,\n",
       "         'interior': 1,\n",
       "         'beauti': 5,\n",
       "         'perform': 1,\n",
       "         'right': 9,\n",
       "         'red': 2,\n",
       "         'velvet': 1,\n",
       "         'cake': 2,\n",
       "         'ohhh': 1,\n",
       "         'stuff': 2,\n",
       "         'never': 26,\n",
       "         'brought': 3,\n",
       "         'salad': 17,\n",
       "         'ask': 10,\n",
       "         'hole': 1,\n",
       "         'wall': 4,\n",
       "         'mexican': 2,\n",
       "         'street': 1,\n",
       "         'taco': 6,\n",
       "         'friendli': 27,\n",
       "         'staff': 19,\n",
       "         'took': 8,\n",
       "         'hour': 8,\n",
       "         '4': 3,\n",
       "         'tabl': 14,\n",
       "         'restaur': 28,\n",
       "         'luke': 1,\n",
       "         'warm': 6,\n",
       "         'sever': 4,\n",
       "         'run': 4,\n",
       "         'around': 8,\n",
       "         'total': 6,\n",
       "         'overwhelm': 2,\n",
       "         'worst': 14,\n",
       "         'salmon': 4,\n",
       "         'sashimi': 3,\n",
       "         'combo': 2,\n",
       "         'burger': 16,\n",
       "         'beer': 9,\n",
       "         '23': 1,\n",
       "         'decent': 2,\n",
       "         'deal': 9,\n",
       "         'final': 3,\n",
       "         'blow': 2,\n",
       "         'found': 7,\n",
       "         'accid': 1,\n",
       "         'happier': 1,\n",
       "         'seem': 4,\n",
       "         'quick': 5,\n",
       "         'grab': 1,\n",
       "         'bite': 4,\n",
       "         'familiar': 2,\n",
       "         'pub': 1,\n",
       "         'favor': 2,\n",
       "         'look': 9,\n",
       "         'elsewher': 4,\n",
       "         'overal': 8,\n",
       "         'lot': 9,\n",
       "         'redeem': 1,\n",
       "         'qualiti': 13,\n",
       "         'inexpens': 2,\n",
       "         'ampl': 1,\n",
       "         'portion': 7,\n",
       "         'poor': 6,\n",
       "         'waiter': 7,\n",
       "         'feel': 15,\n",
       "         'stupid': 1,\n",
       "         'everi': 9,\n",
       "         'came': 20,\n",
       "         'first': 17,\n",
       "         'visit': 5,\n",
       "         'hiro': 1,\n",
       "         'delight': 5,\n",
       "         'suck': 9,\n",
       "         'shrimp': 5,\n",
       "         'tender': 7,\n",
       "         'moist': 3,\n",
       "         'enough': 12,\n",
       "         'drag': 1,\n",
       "         'establish': 4,\n",
       "         'hard': 6,\n",
       "         'judg': 3,\n",
       "         'whether': 1,\n",
       "         'side': 10,\n",
       "         'gross': 4,\n",
       "         'melt': 4,\n",
       "         'styrofoam': 1,\n",
       "         'eat': 26,\n",
       "         'fear': 1,\n",
       "         'sick': 5,\n",
       "         'posit': 1,\n",
       "         'note': 2,\n",
       "         'server': 18,\n",
       "         'attent': 8,\n",
       "         'provid': 3,\n",
       "         'frozen': 3,\n",
       "         'puck': 1,\n",
       "         'peopl': 9,\n",
       "         'behind': 2,\n",
       "         'regist': 1,\n",
       "         'thing': 13,\n",
       "         'prime': 1,\n",
       "         'rib': 1,\n",
       "         'dessert': 8,\n",
       "         'section': 1,\n",
       "         'bad': 18,\n",
       "         'gener': 4,\n",
       "         'beef': 5,\n",
       "         'cook': 10,\n",
       "         'sandwich': 10,\n",
       "         'firehous': 1,\n",
       "         'greek': 3,\n",
       "         'dress': 4,\n",
       "         'pita': 3,\n",
       "         'hummu': 3,\n",
       "         'refresh': 1,\n",
       "         'order': 28,\n",
       "         'duck': 3,\n",
       "         'rare': 6,\n",
       "         'pink': 1,\n",
       "         'insid': 7,\n",
       "         'nice': 25,\n",
       "         'char': 2,\n",
       "         'outsid': 5,\n",
       "         'us': 19,\n",
       "         'realiz': 2,\n",
       "         'husband': 4,\n",
       "         'left': 6,\n",
       "         'sunglass': 1,\n",
       "         'chow': 1,\n",
       "         'mein': 1,\n",
       "         'horribl': 6,\n",
       "         'attitud': 2,\n",
       "         'toward': 2,\n",
       "         'custom': 8,\n",
       "         'talk': 6,\n",
       "         'one': 27,\n",
       "         'enjoy': 12,\n",
       "         'huge': 5,\n",
       "         'wonder': 7,\n",
       "         'imagin': 4,\n",
       "         'heart': 5,\n",
       "         'attack': 2,\n",
       "         'grill': 4,\n",
       "         'downtown': 2,\n",
       "         'absolut': 9,\n",
       "         'excus': 2,\n",
       "         'much': 18,\n",
       "         'seafood': 5,\n",
       "         '5': 8,\n",
       "         'string': 1,\n",
       "         'pasta': 6,\n",
       "         'bottom': 1,\n",
       "         'amount': 3,\n",
       "         'sauc': 11,\n",
       "         'power': 1,\n",
       "         'scallop': 2,\n",
       "         'perfectli': 3,\n",
       "         'rip': 2,\n",
       "         'banana': 1,\n",
       "         'petrifi': 1,\n",
       "         'tasteless': 5,\n",
       "         'least': 4,\n",
       "         'think': 17,\n",
       "         'refil': 2,\n",
       "         'water': 4,\n",
       "         'struggl': 1,\n",
       "         'wave': 1,\n",
       "         '10': 4,\n",
       "         'minut': 19,\n",
       "         'receiv': 4,\n",
       "         'star': 18,\n",
       "         'appet': 3,\n",
       "         'cocktail': 2,\n",
       "         'handmad': 1,\n",
       "         'delici': 24,\n",
       "         'definit': 19,\n",
       "         'glad': 2,\n",
       "         'give': 10,\n",
       "         'militari': 1,\n",
       "         'discount': 1,\n",
       "         'alway': 15,\n",
       "         'do': 1,\n",
       "         'gringo': 1,\n",
       "         'updat': 1,\n",
       "         'went': 13,\n",
       "         'second': 3,\n",
       "         'got': 18,\n",
       "         'appar': 1,\n",
       "         'heard': 2,\n",
       "         'salt': 3,\n",
       "         'batter': 2,\n",
       "         'fish': 5,\n",
       "         'chewi': 3,\n",
       "         'way': 16,\n",
       "         'finish': 2,\n",
       "         'includ': 2,\n",
       "         '2': 8,\n",
       "         'drink': 8,\n",
       "         'jeff': 1,\n",
       "         'beyond': 2,\n",
       "         'expect': 9,\n",
       "         'realli': 36,\n",
       "         'rice': 4,\n",
       "         'meh': 2,\n",
       "         '30': 6,\n",
       "         'min': 2,\n",
       "         'milkshak': 1,\n",
       "         'noth': 7,\n",
       "         'chocol': 1,\n",
       "         'milk': 1,\n",
       "         'guess': 3,\n",
       "         'known': 2,\n",
       "         'excalibur': 1,\n",
       "         'use': 5,\n",
       "         'common': 1,\n",
       "         'sens': 1,\n",
       "         'dish': 17,\n",
       "         'quit': 9,\n",
       "         'appal': 1,\n",
       "         'valu': 2,\n",
       "         'well': 15,\n",
       "         'sweet': 5,\n",
       "         'season': 4,\n",
       "         'today': 4,\n",
       "         'lunch': 9,\n",
       "         'buffet': 12,\n",
       "         'cheat': 1,\n",
       "         'wast': 8,\n",
       "         'opportun': 2,\n",
       "         'compani': 2,\n",
       "         'come': 21,\n",
       "         'experienc': 2,\n",
       "         'underwhelm': 2,\n",
       "         'relationship': 1,\n",
       "         'parti': 4,\n",
       "         'ca': 9,\n",
       "         'wait': 29,\n",
       "         'person': 4,\n",
       "         'break': 3,\n",
       "         'walk': 3,\n",
       "         'smell': 2,\n",
       "         'old': 5,\n",
       "         'greas': 2,\n",
       "         'trap': 1,\n",
       "         'other': 2,\n",
       "         'turkey': 1,\n",
       "         'roast': 4,\n",
       "         'bland': 11,\n",
       "         'pan': 1,\n",
       "         'everyon': 4,\n",
       "         'rave': 2,\n",
       "         'sugari': 2,\n",
       "         'disast': 1,\n",
       "         'tailor': 1,\n",
       "         'palat': 1,\n",
       "         'six': 2,\n",
       "         'year': 5,\n",
       "         'spring': 1,\n",
       "         'roll': 5,\n",
       "         'oh': 3,\n",
       "         'yummi': 4,\n",
       "         'meat': 10,\n",
       "         'ratio': 1,\n",
       "         'unsatisfi': 1,\n",
       "         'omelet': 1,\n",
       "         'die': 2,\n",
       "         'everyth': 11,\n",
       "         'summari': 1,\n",
       "         'larg': 5,\n",
       "         'disappoint': 30,\n",
       "         'dine': 10,\n",
       "         'experi': 20,\n",
       "         'sexi': 1,\n",
       "         'mouth': 5,\n",
       "         'outrag': 1,\n",
       "         'flirt': 1,\n",
       "         'hottest': 1,\n",
       "         'rock': 1,\n",
       "         'casino': 1,\n",
       "         'step': 2,\n",
       "         'forward': 1,\n",
       "         'best': 30,\n",
       "         'breakfast': 9,\n",
       "         'bye': 2,\n",
       "         'tip': 3,\n",
       "         'ladi': 4,\n",
       "         'arriv': 5,\n",
       "         'quickli': 3,\n",
       "         'cafe': 3,\n",
       "         'serv': 12,\n",
       "         'fantast': 12,\n",
       "         'wife': 3,\n",
       "         'garlic': 2,\n",
       "         'bone': 1,\n",
       "         'marrow': 2,\n",
       "         'ad': 2,\n",
       "         'extra': 2,\n",
       "         'meal': 14,\n",
       "         'anoth': 10,\n",
       "         'help': 7,\n",
       "         'bloddi': 1,\n",
       "         'mari': 2,\n",
       "         'town': 7,\n",
       "         'beat': 4,\n",
       "         'mussel': 1,\n",
       "         'wine': 5,\n",
       "         'reduct': 1,\n",
       "         'better': 16,\n",
       "         'tigerlilli': 1,\n",
       "         'afternoon': 1,\n",
       "         'bartend': 3,\n",
       "         'ambienc': 3,\n",
       "         'music': 3,\n",
       "         'play': 3,\n",
       "         'next': 11,\n",
       "         'trip': 5,\n",
       "         'sooooo': 1,\n",
       "         'real': 5,\n",
       "         'sushi': 13,\n",
       "         'lover': 3,\n",
       "         'honest': 3,\n",
       "         'yama': 1,\n",
       "         '40min': 1,\n",
       "         'pass': 2,\n",
       "         'busi': 8,\n",
       "         'thai': 5,\n",
       "         'spici': 8,\n",
       "         'check': 9,\n",
       "         'atmospher': 10,\n",
       "         'kind': 4,\n",
       "         'mess': 1,\n",
       "         'steak': 18,\n",
       "         'although': 3,\n",
       "         'sound': 1,\n",
       "         'actual': 3,\n",
       "         'bit': 9,\n",
       "         'know': 11,\n",
       "         'manag': 11,\n",
       "         'blandest': 1,\n",
       "         'eaten': 5,\n",
       "         'prepar': 4,\n",
       "         'indian': 2,\n",
       "         'cuisin': 1,\n",
       "         'boot': 2,\n",
       "         'worri': 1,\n",
       "         'fine': 3,\n",
       "         'guy': 3,\n",
       "         'son': 1,\n",
       "         'said': 8,\n",
       "         'thought': 5,\n",
       "         'ventur': 2,\n",
       "         'away': 5,\n",
       "         'hit': 6,\n",
       "         'spot': 9,\n",
       "         'night': 12,\n",
       "         'host': 1,\n",
       "         'lack': 7,\n",
       "         'word': 3,\n",
       "         'bitch': 1,\n",
       "         'number': 1,\n",
       "         'reason': 9,\n",
       "         'review': 8,\n",
       "         'leav': 5,\n",
       "         'phenomen': 1,\n",
       "         'ambianc': 7,\n",
       "         'return': 7,\n",
       "         'strip': 3,\n",
       "         'pork': 4,\n",
       "         'belli': 3,\n",
       "         'mediocr': 6,\n",
       "         'penn': 1,\n",
       "         'vodka': 1,\n",
       "         'excel': 10,\n",
       "         'massiv': 1,\n",
       "         'meatloaf': 1,\n",
       "         'crispi': 1,\n",
       "         'wrap': 3,\n",
       "         'delish': 3,\n",
       "         'tuna': 2,\n",
       "         'rude': 9,\n",
       "         'nyc': 1,\n",
       "         'bagel': 2,\n",
       "         'cream': 4,\n",
       "         'chees': 3,\n",
       "         'lox': 1,\n",
       "         'caper': 1,\n",
       "         'even': 21,\n",
       "         'subway': 3,\n",
       "         'fact': 4,\n",
       "         'meet': 1,\n",
       "         'serious': 7,\n",
       "         'solid': 1,\n",
       "         'bar': 9,\n",
       "         'extrem': 5,\n",
       "         'mani': 9,\n",
       "         'weekend': 1,\n",
       "         'empti': 3,\n",
       "         'suggest': 2,\n",
       "         'ate': 3,\n",
       "         'curri': 2,\n",
       "         'bamboo': 1,\n",
       "         'shoot': 1,\n",
       "         'blanket': 1,\n",
       "         'moz': 1,\n",
       "         'top': 3,\n",
       "         'done': 6,\n",
       "         'cover': 3,\n",
       "         'subpar': 1,\n",
       "         'bathroom': 5,\n",
       "         'clean': 9,\n",
       "         'decor': 5,\n",
       "         'chang': 1,\n",
       "         'consid': 5,\n",
       "         '3': 4,\n",
       "         'pace': 2,\n",
       "         'thumb': 4,\n",
       "         'watch': 5,\n",
       "         'pay': 5,\n",
       "         'ignor': 2,\n",
       "         'fiancé': 1,\n",
       "         'middl': 1,\n",
       "         'day': 9,\n",
       "         'greet': 2,\n",
       "         'seat': 9,\n",
       "         'mandalay': 1,\n",
       "         'bay': 4,\n",
       "         'forti': 1,\n",
       "         'five': 1,\n",
       "         'vain': 1,\n",
       "         'crostini': 1,\n",
       "         'stale': 3,\n",
       "         'highlight': 3,\n",
       "         'nigiri': 1,\n",
       "         'joint': 2,\n",
       "         'differ': 4,\n",
       "         'cut': 2,\n",
       "         'piec': 4,\n",
       "         'flavor': 18,\n",
       "         'voodoo': 1,\n",
       "         'sinc': 8,\n",
       "         'gluten': 1,\n",
       "         'free': 1,\n",
       "         'ago': 3,\n",
       "         'unfortun': 4,\n",
       "         'must': 6,\n",
       "         'bakeri': 2,\n",
       "         'leftov': 1,\n",
       "         'reloc': 1,\n",
       "         'impress': 9,\n",
       "         'immedi': 3,\n",
       "         'divers': 1,\n",
       "         'avoid': 6,\n",
       "         'cost': 1,\n",
       "         'full': 5,\n",
       "         'phoenix': 4,\n",
       "         'metro': 1,\n",
       "         'area': 5,\n",
       "         'treat': 5,\n",
       "         'bacon': 5,\n",
       "         'hella': 1,\n",
       "         'salti': 1,\n",
       "         'spinach': 1,\n",
       "         'avocado': 1,\n",
       "         'ingredi': 1,\n",
       "         'sad': 4,\n",
       "         'liter': 3,\n",
       "         'zero': 5,\n",
       "         'hand': 4,\n",
       "         'list': 4,\n",
       "         'lordi': 1,\n",
       "         'khao': 1,\n",
       "         'soi': 1,\n",
       "         'miss': 3,\n",
       "         'terrif': 1,\n",
       "         'thrill': 1,\n",
       "         'accommod': 1,\n",
       "         'vegetarian': 3,\n",
       "         'daughter': 1,\n",
       "         'perhap': 1,\n",
       "         'caught': 1,\n",
       "         'inspir': 1,\n",
       "         'desir': 1,\n",
       "         'modern': 1,\n",
       "         'hip': 1,\n",
       "         'maintain': 1,\n",
       "         'cozi': 1,\n",
       "         'weekli': 1,\n",
       "         'haunt': 1,\n",
       "         'sat': 5,\n",
       "         '20': 4,\n",
       "         'take': 8,\n",
       "         'overcook': 2,\n",
       "         'charcoal': 2,\n",
       "         'decid': 3,\n",
       "         'send': 1,\n",
       "         'verg': 1,\n",
       "         'probabl': 10,\n",
       "         'dirt': 2,\n",
       "         'someth': 4,\n",
       "         'healthi': 3,\n",
       "         'quantiti': 1,\n",
       "         'lemon': 1,\n",
       "         'raspberri': 1,\n",
       "         'ice': 6,\n",
       "         'incred': 5,\n",
       "         'interest': 3,\n",
       "         'crepe': 1,\n",
       "         'station': 2,\n",
       "         'hot': 9,\n",
       "         'bread': 5,\n",
       "         'butter': 3,\n",
       "         'home': 5,\n",
       "         'chip': 8,\n",
       "         'origin': 1,\n",
       "         'egg': 5,\n",
       "         'gyro': 3,\n",
       "         'wing': 4,\n",
       "         'satisfi': 3,\n",
       "         'joey': 1,\n",
       "         'vote': 1,\n",
       "         'dog': 3,\n",
       "         'valley': 2,\n",
       "         'reader': 1,\n",
       "         'magazin': 1,\n",
       "         'bowl': 2,\n",
       "         'live': 6,\n",
       "         'friday': 1,\n",
       "         'insult': 4,\n",
       "         'felt': 8,\n",
       "         'disrespect': 2,\n",
       "         'drive': 5,\n",
       "         'exceed': 1,\n",
       "         'hope': 6,\n",
       "         'dream': 1,\n",
       "         'serivc': 1,\n",
       "         'brunch': 3,\n",
       "         'invit': 1,\n",
       "         '1979': 1,\n",
       "         'last': 6,\n",
       "         'foot': 1,\n",
       "         'mix': 1,\n",
       "         'mushroom': 2,\n",
       "         'yukon': 1,\n",
       "         'gold': 2,\n",
       "         'pure': 2,\n",
       "         'white': 3,\n",
       "         'corn': 1,\n",
       "         'beateou': 1,\n",
       "         'bug': 2,\n",
       "         'show': 2,\n",
       "         'given': 2,\n",
       "         'climb': 1,\n",
       "         'kitchen': 1,\n",
       "         'soon': 9,\n",
       "         'friend': 9,\n",
       "         'tartar': 2,\n",
       "         'wo': 19,\n",
       "         'though': 4,\n",
       "         'soggi': 3,\n",
       "         'jamaican': 1,\n",
       "         'mojito': 1,\n",
       "         'small': 6,\n",
       "         'rich': 1,\n",
       "         'accordingli': 1,\n",
       "         'shower': 2,\n",
       "         'rins': 1,\n",
       "         'unless': 3,\n",
       "         'mind': 2,\n",
       "         'nude': 1,\n",
       "         'see': 6,\n",
       "         'lobster': 3,\n",
       "         'bisqu': 2,\n",
       "         'bussel': 1,\n",
       "         'sprout': 1,\n",
       "         'risotto': 1,\n",
       "         'filet': 2,\n",
       "         'need': 9,\n",
       "         'pepper': 2,\n",
       "         'cours': 3,\n",
       "         'none': 3,\n",
       "         'bode': 1,\n",
       "         'someon': 4,\n",
       "         'either': 6,\n",
       "         'cold': 9,\n",
       "         'date': 2,\n",
       "         'unbeliev': 2,\n",
       "         'bargain': 1,\n",
       "         'folk': 4,\n",
       "         'otto': 1,\n",
       "         'make': 9,\n",
       "         'welcom': 1,\n",
       "         'special': 8,\n",
       "         'main': 3,\n",
       "         'uninspir': 1,\n",
       "         'whenev': 1,\n",
       "         'world': 3,\n",
       "         'drunk': 1,\n",
       "         'fun': 4,\n",
       "         'chef': 4,\n",
       "         'doubl': 2,\n",
       "         'cheeseburg': 2,\n",
       "         'singl': 2,\n",
       "         'patti': 1,\n",
       "         'fall': 1,\n",
       "         'apart': 1,\n",
       "         'pictur': 2,\n",
       "         'upload': 1,\n",
       "         'yeah': 1,\n",
       "         'coupl': 4,\n",
       "         'sport': 1,\n",
       "         'event': 2,\n",
       "         'tv': 1,\n",
       "         'possibl': 4,\n",
       "         'descript': 1,\n",
       "         'yum': 2,\n",
       "         'eel': 1,\n",
       "         'yet': 3,\n",
       "         'mayo': 2,\n",
       "         'hardest': 1,\n",
       "         'decis': 1,\n",
       "         'honestli': 2,\n",
       "         'suppos': 1,\n",
       "         'eye': 2,\n",
       "         'stay': 7,\n",
       "         'money': 6,\n",
       "         'flavour': 1,\n",
       "         'almost': 2,\n",
       "         'build': 2,\n",
       "         'freez': 1,\n",
       "         'close': 5,\n",
       "         'point': 3,\n",
       "         'ayc': 1,\n",
       "         'light': 2,\n",
       "         'dark': 2,\n",
       "         'set': 5,\n",
       "         'mood': 2,\n",
       "         'base': 1,\n",
       "         'effort': 1,\n",
       "         'gratitud': 1,\n",
       "         'owner': 7,\n",
       "         'privileg': 1,\n",
       "         'creami': 2,\n",
       "         'parent': 1,\n",
       "         'similar': 2,\n",
       "         'complaint': 2,\n",
       "         'silent': 1,\n",
       "         'pizza': 18,\n",
       "         'peanut': 2,\n",
       "         '7': 1,\n",
       "         'fast': 5,\n",
       "         'godfath': 1,\n",
       "         'tough': 1,\n",
       "         'short': 1,\n",
       "         'stick': 2,\n",
       "         'recal': 1,\n",
       "         'charg': 2,\n",
       "         'tap': 2,\n",
       "         'exquisit': 1,\n",
       "         'plu': 2,\n",
       "         '8': 3,\n",
       "         'buck': 2,\n",
       "         'par': 2,\n",
       "         'thu': 1,\n",
       "         'far': 7,\n",
       "         'twice': 6,\n",
       "         'self': 1,\n",
       "         'proclaim': 1,\n",
       "         'coffe': 2,\n",
       "         'wildli': 1,\n",
       "         'veggitarian': 1,\n",
       "         'platter': 1,\n",
       "         'cant': 2,\n",
       "         'wrong': 5,\n",
       "         'madison': 1,\n",
       "         'ironman': 1,\n",
       "         'job': 4,\n",
       "         'dedic': 1,\n",
       "         'boba': 2,\n",
       "         'tea': 4,\n",
       "         'jenni': 1,\n",
       "         'patio': 3,\n",
       "         'outstand': 3,\n",
       "         'goat': 1,\n",
       "         'skimp': 1,\n",
       "         'mac': 1,\n",
       "         'bachi': 2,\n",
       "         'stink': 1,\n",
       "         'burn': 1,\n",
       "         'saganaki': 1,\n",
       "         '100': 2,\n",
       "         'hate': 3,\n",
       "         'disagre': 1,\n",
       "         'fellow': 1,\n",
       "         'yelper': 1,\n",
       "         'later': 2,\n",
       "         'neighborhood': 2,\n",
       "         'conveni': 2,\n",
       "         'locat': 5,\n",
       "         'pull': 3,\n",
       "         'soooo': 2,\n",
       "         'gave': 4,\n",
       "         '1': 4,\n",
       "         'rate': 4,\n",
       "         'pleas': 6,\n",
       "         'third': 2,\n",
       "         'write': 1,\n",
       "         'stir': 2,\n",
       "         'noodl': 1,\n",
       "         'count': 1,\n",
       "         'box': 2,\n",
       "         '12': 2,\n",
       "         'bore': 1,\n",
       "         'greedi': 1,\n",
       "         'corpor': 1,\n",
       "         'dime': 1,\n",
       "         'atroci': 1,\n",
       "         'summer': 2,\n",
       "         'charm': 1,\n",
       "         'outdoor': 1,\n",
       "         'toast': 3,\n",
       "         'english': 1,\n",
       "         'muffin': 1,\n",
       "         'untoast': 1,\n",
       "         'high': 3,\n",
       "         'hous': 3,\n",
       "         'bu': 1,\n",
       "         'boy': 3,\n",
       "         'basic': 2,\n",
       "         'figur': 1,\n",
       "         'joke': 2,\n",
       "         'publicli': 1,\n",
       "         'loudli': 1,\n",
       "         'bbq': 1,\n",
       "         'lighter': 1,\n",
       "         'fare': 2,\n",
       "         'public': 1,\n",
       "         'two': 8,\n",
       "         'happi': 8,\n",
       "         'downsid': 1,\n",
       "         'without': 2,\n",
       "         'doubt': 2,\n",
       "         'except': 1,\n",
       "         'month': 1,\n",
       "         'favorit': 3,\n",
       "         'shawarrrrrrma': 1,\n",
       "         'black': 2,\n",
       "         'pea': 1,\n",
       "         'unreal': 1,\n",
       "         'vinaigrett': 1,\n",
       "         'seen': 2,\n",
       "         'especi': 3,\n",
       "         'mom': 3,\n",
       "         'pleasant': 3,\n",
       "         'honor': 1,\n",
       "         'hut': 1,\n",
       "         'coupon': 1,\n",
       "         'truli': 1,\n",
       "         'replenish': 1,\n",
       "         'plain': 1,\n",
       "         'yucki': 1,\n",
       "         'standard': 1,\n",
       "         '17': 1,\n",
       "         'omg': 2,\n",
       "         'delicioso': 1,\n",
       "         'authent': 6,\n",
       "         'spaghetti': 1,\n",
       "         'whatsoev': 1,\n",
       "         'veget': 4,\n",
       "         'tucson': 1,\n",
       "         'chipotl': 1,\n",
       "         'succul': 1,\n",
       "         'basebal': 1,\n",
       "         'brick': 2,\n",
       "         'oven': 2,\n",
       "         'app': 1,\n",
       "         'multipl': 2,\n",
       "         'ten': 2,\n",
       "         'terribl': 10,\n",
       "         'equal': 3,\n",
       "         'pancak': 3,\n",
       "         'genuin': 1,\n",
       "         'enthusiast': 1,\n",
       "         'sadli': 1,\n",
       "         'gordon': 1,\n",
       "         'ramsey': 1,\n",
       "         'shall': 1,\n",
       "         'sharpli': 1,\n",
       "         'life': 2,\n",
       "         'door': 3,\n",
       "         'offer': 3,\n",
       "         'cool': 3,\n",
       "         'turn': 1,\n",
       "         'els': 3,\n",
       "         'buy': 1,\n",
       "         'handl': 2,\n",
       "         'rowdi': 1,\n",
       "         'find': 3,\n",
       "         'despic': 1,\n",
       "         'soup': 5,\n",
       "         'lukewarm': 2,\n",
       "         'crave': 1,\n",
       "         'deserv': 3,\n",
       "         'stomach': 3,\n",
       "         'ach': 1,\n",
       "         'rest': 1,\n",
       "         'drop': 1,\n",
       "         'ball': 1,\n",
       "         'space': 1,\n",
       "         'tini': 1,\n",
       "         'elegantli': 1,\n",
       "         'comfort': 2,\n",
       "         'usual': 1,\n",
       "         'eggplant': 2,\n",
       "         'green': 4,\n",
       "         'bean': 4,\n",
       "         'outta': 1,\n",
       "         'part': 2,\n",
       "         'inconsider': 1,\n",
       "         'hi': 1,\n",
       "         'dinner': 7,\n",
       "         'outshin': 1,\n",
       "         'halibut': 1,\n",
       "         'told': 3,\n",
       "         'happen': 2,\n",
       "         'car': 2,\n",
       "         'front': 2,\n",
       "         'starv': 1,\n",
       "         '90': 1,\n",
       "         'disgrac': 2,\n",
       "         'def': 1,\n",
       "         'ethic': 1,\n",
       "         'continu': 1,\n",
       "         'andddd': 1,\n",
       "         'anyon': 2,\n",
       "         'past': 1,\n",
       "         'stuf': 2,\n",
       "         'crystal': 1,\n",
       "         'shop': 3,\n",
       "         'mall': 2,\n",
       "         'aria': 1,\n",
       "         'summar': 1,\n",
       "         'nay': 1,\n",
       "         'transcend': 1,\n",
       "         'bring': 6,\n",
       "         'joy': 1,\n",
       "         'memori': 1,\n",
       "         'pneumat': 1,\n",
       "         'condiment': 1,\n",
       "         'dispens': 1,\n",
       "         'ian': 1,\n",
       "         'kid': 3,\n",
       "         'option': 4,\n",
       "         'kiddo': 1,\n",
       "         'perfect': 12,\n",
       "         'famili': 7,\n",
       "         'impecc': 2,\n",
       "         'simpli': 2,\n",
       "         'bouchon': 1,\n",
       "         'account': 1,\n",
       "         'screw': 1,\n",
       "         'remind': 2,\n",
       "         'pop': 2,\n",
       "         'san': 1,\n",
       "         'francisco': 1,\n",
       "         'buldogi': 1,\n",
       "         'gourmet': 1,\n",
       "         'frustrat': 1,\n",
       "         'petti': 1,\n",
       "         'hungri': 1,\n",
       "         'assur': 2,\n",
       "         'teeth': 1,\n",
       "         'sore': 2,\n",
       "         'complet': 3,\n",
       "         'becom': 2,\n",
       "         'regular': 3,\n",
       "         'profession': 2,\n",
       "         'companion': 1,\n",
       "         'ground': 1,\n",
       "         'smear': 1,\n",
       "         'pile': 1,\n",
       "         'bird': 1,\n",
       "         'poop': 1,\n",
       "         'furthermor': 1,\n",
       "         'oper': 1,\n",
       "         'websit': 1,\n",
       "         'mistak': 2,\n",
       "         'topic': 1,\n",
       "         'jerk': 1,\n",
       "         'strike': 1,\n",
       "         'rush': 1,\n",
       "         'nicest': 2,\n",
       "         'across': 1,\n",
       "         'biscuit': 3,\n",
       "         '40': 4,\n",
       "         'absolutley': 1,\n",
       "         'awkward': 1,\n",
       "         'cow': 2,\n",
       "         'gristl': 1,\n",
       "         'fat': 1,\n",
       "         'steiner': 1,\n",
       "         'dollar': 1,\n",
       "         'anyway': 3,\n",
       "         'fs': 1,\n",
       "         'week': 2,\n",
       "         'mention': 1,\n",
       "         'combin': 2,\n",
       "         'pear': 1,\n",
       "         'almond': 1,\n",
       "         'big': 3,\n",
       "         'winner': 1,\n",
       "         'spicier': 1,\n",
       "         'prefer': 1,\n",
       "         'ribey': 1,\n",
       "         'mesquit': 1,\n",
       "         'anytim': 5,\n",
       "         'gooodd': 1,\n",
       "         ...})"
      ]
     },
     "execution_count": 33,
     "metadata": {},
     "output_type": "execute_result"
    }
   ],
   "source": [
    "word_freq"
   ]
  },
  {
   "cell_type": "code",
   "execution_count": 34,
   "id": "d5a0ed83",
   "metadata": {},
   "outputs": [],
   "source": [
    "word_freq_df = pd.DataFrame.from_dict(word_freq, orient='index', columns=['count']).reset_index()\n"
   ]
  },
  {
   "cell_type": "code",
   "execution_count": 35,
   "id": "1a1f032a",
   "metadata": {},
   "outputs": [],
   "source": [
    "word_freq_df = word_freq_df.rename(columns={'index': 'word'})\n"
   ]
  },
  {
   "cell_type": "code",
   "execution_count": 36,
   "id": "8176af7e",
   "metadata": {},
   "outputs": [],
   "source": [
    "word_freq_df = word_freq_df.sort_values(by='count', ascending=False)\n"
   ]
  },
  {
   "cell_type": "code",
   "execution_count": 37,
   "id": "3637c19c",
   "metadata": {},
   "outputs": [
    {
     "data": {
      "text/html": [
       "<div>\n",
       "<style scoped>\n",
       "    .dataframe tbody tr th:only-of-type {\n",
       "        vertical-align: middle;\n",
       "    }\n",
       "\n",
       "    .dataframe tbody tr th {\n",
       "        vertical-align: top;\n",
       "    }\n",
       "\n",
       "    .dataframe thead th {\n",
       "        text-align: right;\n",
       "    }\n",
       "</style>\n",
       "<table border=\"1\" class=\"dataframe\">\n",
       "  <thead>\n",
       "    <tr style=\"text-align: right;\">\n",
       "      <th></th>\n",
       "      <th>word</th>\n",
       "      <th>count</th>\n",
       "    </tr>\n",
       "  </thead>\n",
       "  <tbody>\n",
       "    <tr>\n",
       "      <th>79</th>\n",
       "      <td>food</td>\n",
       "      <td>126</td>\n",
       "    </tr>\n",
       "    <tr>\n",
       "      <th>2</th>\n",
       "      <td>place</td>\n",
       "      <td>112</td>\n",
       "    </tr>\n",
       "    <tr>\n",
       "      <th>4</th>\n",
       "      <td>good</td>\n",
       "      <td>95</td>\n",
       "    </tr>\n",
       "    <tr>\n",
       "      <th>40</th>\n",
       "      <td>servic</td>\n",
       "      <td>84</td>\n",
       "    </tr>\n",
       "    <tr>\n",
       "      <th>18</th>\n",
       "      <td>great</td>\n",
       "      <td>70</td>\n",
       "    </tr>\n",
       "    <tr>\n",
       "      <th>...</th>\n",
       "      <td>...</td>\n",
       "      <td>...</td>\n",
       "    </tr>\n",
       "    <tr>\n",
       "      <th>968</th>\n",
       "      <td>websit</td>\n",
       "      <td>1</td>\n",
       "    </tr>\n",
       "    <tr>\n",
       "      <th>290</th>\n",
       "      <td>milkshak</td>\n",
       "      <td>1</td>\n",
       "    </tr>\n",
       "    <tr>\n",
       "      <th>970</th>\n",
       "      <td>topic</td>\n",
       "      <td>1</td>\n",
       "    </tr>\n",
       "    <tr>\n",
       "      <th>971</th>\n",
       "      <td>jerk</td>\n",
       "      <td>1</td>\n",
       "    </tr>\n",
       "    <tr>\n",
       "      <th>1565</th>\n",
       "      <td>draw</td>\n",
       "      <td>1</td>\n",
       "    </tr>\n",
       "  </tbody>\n",
       "</table>\n",
       "<p>1566 rows × 2 columns</p>\n",
       "</div>"
      ],
      "text/plain": [
       "          word  count\n",
       "79        food    126\n",
       "2        place    112\n",
       "4         good     95\n",
       "40      servic     84\n",
       "18       great     70\n",
       "...        ...    ...\n",
       "968     websit      1\n",
       "290   milkshak      1\n",
       "970      topic      1\n",
       "971       jerk      1\n",
       "1565      draw      1\n",
       "\n",
       "[1566 rows x 2 columns]"
      ]
     },
     "execution_count": 37,
     "metadata": {},
     "output_type": "execute_result"
    }
   ],
   "source": [
    "word_freq_df"
   ]
  },
  {
   "cell_type": "code",
   "execution_count": 38,
   "id": "362ea974",
   "metadata": {},
   "outputs": [
    {
     "data": {
      "text/plain": [
       "<AxesSubplot:xlabel='word', ylabel='count'>"
      ]
     },
     "execution_count": 38,
     "metadata": {},
     "output_type": "execute_result"
    },
    {
     "data": {
      "image/png": "[encoded data removed]",
      "text/plain": [
       "<Figure size 432x288 with 1 Axes>"
      ]
     },
     "metadata": {
      "needs_background": "light"
     },
     "output_type": "display_data"
    }
   ],
   "source": [
    "sns.barplot(x=word_freq_df['word'][:10],y=word_freq_df['count'][:10])"
   ]
  },
  {
   "cell_type": "code",
   "execution_count": 39,
   "id": "32a79fcb",
   "metadata": {},
   "outputs": [
    {
     "data": {
      "text/html": [
       "<div>\n",
       "<style scoped>\n",
       "    .dataframe tbody tr th:only-of-type {\n",
       "        vertical-align: middle;\n",
       "    }\n",
       "\n",
       "    .dataframe tbody tr th {\n",
       "        vertical-align: top;\n",
       "    }\n",
       "\n",
       "    .dataframe thead th {\n",
       "        text-align: right;\n",
       "    }\n",
       "</style>\n",
       "<table border=\"1\" class=\"dataframe\">\n",
       "  <thead>\n",
       "    <tr style=\"text-align: right;\">\n",
       "      <th></th>\n",
       "      <th>Review</th>\n",
       "      <th>Liked</th>\n",
       "    </tr>\n",
       "  </thead>\n",
       "  <tbody>\n",
       "    <tr>\n",
       "      <th>0</th>\n",
       "      <td>wow love place</td>\n",
       "      <td>1</td>\n",
       "    </tr>\n",
       "    <tr>\n",
       "      <th>1</th>\n",
       "      <td>crust good</td>\n",
       "      <td>0</td>\n",
       "    </tr>\n",
       "    <tr>\n",
       "      <th>2</th>\n",
       "      <td>tasti textur nasti</td>\n",
       "      <td>0</td>\n",
       "    </tr>\n",
       "    <tr>\n",
       "      <th>3</th>\n",
       "      <td>stop late may bank holiday rick steve recommen...</td>\n",
       "      <td>1</td>\n",
       "    </tr>\n",
       "    <tr>\n",
       "      <th>4</th>\n",
       "      <td>select menu great price</td>\n",
       "      <td>1</td>\n",
       "    </tr>\n",
       "    <tr>\n",
       "      <th>...</th>\n",
       "      <td>...</td>\n",
       "      <td>...</td>\n",
       "    </tr>\n",
       "    <tr>\n",
       "      <th>995</th>\n",
       "      <td>think food flavor textur lack</td>\n",
       "      <td>0</td>\n",
       "    </tr>\n",
       "    <tr>\n",
       "      <th>996</th>\n",
       "      <td>appetit instantli gone</td>\n",
       "      <td>0</td>\n",
       "    </tr>\n",
       "    <tr>\n",
       "      <th>997</th>\n",
       "      <td>overal impress would go back</td>\n",
       "      <td>0</td>\n",
       "    </tr>\n",
       "    <tr>\n",
       "      <th>998</th>\n",
       "      <td>whole experi underwhelm think go ninja sushi n...</td>\n",
       "      <td>0</td>\n",
       "    </tr>\n",
       "    <tr>\n",
       "      <th>999</th>\n",
       "      <td>wast enough life pour salt wound draw time too...</td>\n",
       "      <td>0</td>\n",
       "    </tr>\n",
       "  </tbody>\n",
       "</table>\n",
       "<p>1000 rows × 2 columns</p>\n",
       "</div>"
      ],
      "text/plain": [
       "                                                Review  Liked\n",
       "0                                       wow love place      1\n",
       "1                                           crust good      0\n",
       "2                                   tasti textur nasti      0\n",
       "3    stop late may bank holiday rick steve recommen...      1\n",
       "4                              select menu great price      1\n",
       "..                                                 ...    ...\n",
       "995                      think food flavor textur lack      0\n",
       "996                             appetit instantli gone      0\n",
       "997                       overal impress would go back      0\n",
       "998  whole experi underwhelm think go ninja sushi n...      0\n",
       "999  wast enough life pour salt wound draw time too...      0\n",
       "\n",
       "[1000 rows x 2 columns]"
      ]
     },
     "execution_count": 39,
     "metadata": {},
     "output_type": "execute_result"
    }
   ],
   "source": [
    "df"
   ]
  },
  {
   "cell_type": "code",
   "execution_count": 40,
   "id": "6b49d32b",
   "metadata": {},
   "outputs": [],
   "source": [
    "X=df['Review']"
   ]
  },
  {
   "cell_type": "code",
   "execution_count": 41,
   "id": "2c739b24",
   "metadata": {},
   "outputs": [],
   "source": [
    "y=df['Liked']"
   ]
  },
  {
   "cell_type": "code",
   "execution_count": 42,
   "id": "8c548d9d",
   "metadata": {},
   "outputs": [
    {
     "data": {
      "text/plain": [
       "0                                         wow love place\n",
       "1                                             crust good\n",
       "2                                     tasti textur nasti\n",
       "3      stop late may bank holiday rick steve recommen...\n",
       "4                                select menu great price\n",
       "                             ...                        \n",
       "995                        think food flavor textur lack\n",
       "996                               appetit instantli gone\n",
       "997                         overal impress would go back\n",
       "998    whole experi underwhelm think go ninja sushi n...\n",
       "999    wast enough life pour salt wound draw time too...\n",
       "Name: Review, Length: 1000, dtype: object"
      ]
     },
     "execution_count": 42,
     "metadata": {},
     "output_type": "execute_result"
    }
   ],
   "source": [
    "X"
   ]
  },
  {
   "cell_type": "code",
   "execution_count": 43,
   "id": "1f4ae835",
   "metadata": {},
   "outputs": [
    {
     "data": {
      "text/plain": [
       "0      1\n",
       "1      0\n",
       "2      0\n",
       "3      1\n",
       "4      1\n",
       "      ..\n",
       "995    0\n",
       "996    0\n",
       "997    0\n",
       "998    0\n",
       "999    0\n",
       "Name: Liked, Length: 1000, dtype: int64"
      ]
     },
     "execution_count": 43,
     "metadata": {},
     "output_type": "execute_result"
    }
   ],
   "source": [
    "y"
   ]
  },
  {
   "cell_type": "code",
   "execution_count": 44,
   "id": "2c1edfb9",
   "metadata": {},
   "outputs": [],
   "source": [
    "X_train, X_test, y_train, y_test = train_test_split(X, y, test_size=0.33, random_state=42)\n"
   ]
  },
  {
   "cell_type": "code",
   "execution_count": 45,
   "id": "aa03b077",
   "metadata": {},
   "outputs": [],
   "source": [
    "tdidf_Vectorizer=TfidfVectorizer(max_features=30000)\n"
   ]
  },
  {
   "cell_type": "code",
   "execution_count": 46,
   "id": "3ea68379",
   "metadata": {},
   "outputs": [
    {
     "data": {
      "text/plain": [
       "TfidfVectorizer(max_features=30000)"
      ]
     },
     "execution_count": 46,
     "metadata": {},
     "output_type": "execute_result"
    }
   ],
   "source": [
    "tdidf_Vectorizer"
   ]
  },
  {
   "cell_type": "code",
   "execution_count": 47,
   "id": "bf93b239",
   "metadata": {},
   "outputs": [],
   "source": [
    "# Fiting and transforming the training data\n"
   ]
  },
  {
   "cell_type": "code",
   "execution_count": 48,
   "id": "16a68b7a",
   "metadata": {},
   "outputs": [],
   "source": [
    "X_train_tfidf=tdidf_Vectorizer.fit_transform(X_train)"
   ]
  },
  {
   "cell_type": "code",
   "execution_count": 49,
   "id": "e21408c0",
   "metadata": {},
   "outputs": [
    {
     "data": {
      "text/plain": [
       "<670x1245 sparse matrix of type '<class 'numpy.float64'>'\n",
       "\twith 3656 stored elements in Compressed Sparse Row format>"
      ]
     },
     "execution_count": 49,
     "metadata": {},
     "output_type": "execute_result"
    }
   ],
   "source": [
    "X_train_tfidf"
   ]
  },
  {
   "cell_type": "code",
   "execution_count": 50,
   "id": "2a3f8ea1",
   "metadata": {},
   "outputs": [],
   "source": [
    "# Transforming the testing data\n"
   ]
  },
  {
   "cell_type": "code",
   "execution_count": 51,
   "id": "c0c6cde8",
   "metadata": {},
   "outputs": [],
   "source": [
    "X_test_tfidf=tdidf_Vectorizer.transform(X_test)"
   ]
  },
  {
   "cell_type": "code",
   "execution_count": 52,
   "id": "a9237f51",
   "metadata": {},
   "outputs": [
    {
     "data": {
      "text/plain": [
       "<330x1245 sparse matrix of type '<class 'numpy.float64'>'\n",
       "\twith 1365 stored elements in Compressed Sparse Row format>"
      ]
     },
     "execution_count": 52,
     "metadata": {},
     "output_type": "execute_result"
    }
   ],
   "source": [
    "X_test_tfidf"
   ]
  },
  {
   "cell_type": "markdown",
   "id": "f4732e84",
   "metadata": {},
   "source": [
    "# RandomForestClassifier"
   ]
  },
  {
   "cell_type": "code",
   "execution_count": 53,
   "id": "b11ae2e0",
   "metadata": {},
   "outputs": [],
   "source": [
    "rfc=RandomForestClassifier()\n"
   ]
  },
  {
   "cell_type": "code",
   "execution_count": 54,
   "id": "2c84fcb0",
   "metadata": {},
   "outputs": [
    {
     "data": {
      "text/plain": [
       "RandomForestClassifier()"
      ]
     },
     "execution_count": 54,
     "metadata": {},
     "output_type": "execute_result"
    }
   ],
   "source": [
    "rfc.fit(X_train_tfidf,y_train)"
   ]
  },
  {
   "cell_type": "code",
   "execution_count": 55,
   "id": "eba905d4",
   "metadata": {},
   "outputs": [],
   "source": [
    "y_pred=rfc.predict(X_train_tfidf)\n"
   ]
  },
  {
   "cell_type": "code",
   "execution_count": 56,
   "id": "9f90cf31",
   "metadata": {},
   "outputs": [
    {
     "data": {
      "text/plain": [
       "0.9985074626865672"
      ]
     },
     "execution_count": 56,
     "metadata": {},
     "output_type": "execute_result"
    }
   ],
   "source": [
    "accuracy_score(y_train,y_pred)"
   ]
  },
  {
   "cell_type": "code",
   "execution_count": 57,
   "id": "66ee6b8d",
   "metadata": {},
   "outputs": [],
   "source": [
    "y_pred=rfc.predict(X_test_tfidf)\n"
   ]
  },
  {
   "cell_type": "code",
   "execution_count": 58,
   "id": "24949b7a",
   "metadata": {},
   "outputs": [
    {
     "data": {
      "text/plain": [
       "0.7666666666666667"
      ]
     },
     "execution_count": 58,
     "metadata": {},
     "output_type": "execute_result"
    }
   ],
   "source": [
    "accuracy_score(y_test,y_pred)"
   ]
  },
  {
   "cell_type": "code",
   "execution_count": 59,
   "id": "70b2a0fa",
   "metadata": {},
   "outputs": [],
   "source": [
    "cm=confusion_matrix(y_test,y_pred)"
   ]
  },
  {
   "cell_type": "code",
   "execution_count": 60,
   "id": "8717becd",
   "metadata": {},
   "outputs": [
    {
     "data": {
      "text/plain": [
       "<AxesSubplot:>"
      ]
     },
     "execution_count": 60,
     "metadata": {},
     "output_type": "execute_result"
    },
    {
     "data": {
      "image/png": "[encoded data removed]",
      "text/plain": [
       "<Figure size 432x288 with 2 Axes>"
      ]
     },
     "metadata": {
      "needs_background": "light"
     },
     "output_type": "display_data"
    }
   ],
   "source": [
    "sns.heatmap(data=cm,fmt='d',annot=True)"
   ]
  },
  {
   "cell_type": "code",
   "execution_count": 61,
   "id": "14fbaed0",
   "metadata": {},
   "outputs": [
    {
     "name": "stdout",
     "output_type": "stream",
     "text": [
      "              precision    recall  f1-score   support\n",
      "\n",
      "           0       0.73      0.89      0.80       173\n",
      "           1       0.84      0.63      0.72       157\n",
      "\n",
      "    accuracy                           0.77       330\n",
      "   macro avg       0.78      0.76      0.76       330\n",
      "weighted avg       0.78      0.77      0.76       330\n",
      "\n"
     ]
    }
   ],
   "source": [
    "print(classification_report(y_test,y_pred))"
   ]
  },
  {
   "cell_type": "code",
   "execution_count": 62,
   "id": "defb0759",
   "metadata": {},
   "outputs": [],
   "source": [
    "def predict_emotion(ele):\n",
    "    ele=[ele]\n",
    "    input_tfidf=tdidf_Vectorizer.transform(ele)\n",
    "    predicted_label=rfc.predict(input_tfidf)\n",
    "    return predicted_label"
   ]
  },
  {
   "cell_type": "code",
   "execution_count": 63,
   "id": "ea8196f2",
   "metadata": {},
   "outputs": [
    {
     "name": "stdout",
     "output_type": "stream",
     "text": [
      "Enter a commenti will recommend to  every one\n"
     ]
    }
   ],
   "source": [
    "user_input=input(\"Enter a comment\")\n"
   ]
  },
  {
   "cell_type": "code",
   "execution_count": 64,
   "id": "328915f3",
   "metadata": {},
   "outputs": [],
   "source": [
    "emotion=predict_emotion(user_input)\n"
   ]
  },
  {
   "cell_type": "code",
   "execution_count": 65,
   "id": "b71e5046",
   "metadata": {},
   "outputs": [
    {
     "name": "stdout",
     "output_type": "stream",
     "text": [
      "[1]\n"
     ]
    }
   ],
   "source": [
    "print(emotion)"
   ]
  },
  {
   "cell_type": "markdown",
   "id": "08db668f",
   "metadata": {},
   "source": [
    "# LogisticRegression"
   ]
  },
  {
   "cell_type": "code",
   "execution_count": 66,
   "id": "04dac94f",
   "metadata": {},
   "outputs": [],
   "source": [
    "lr=LogisticRegression()\n",
    "\n"
   ]
  },
  {
   "cell_type": "code",
   "execution_count": 67,
   "id": "ef28f92c",
   "metadata": {},
   "outputs": [
    {
     "data": {
      "text/plain": [
       "LogisticRegression()"
      ]
     },
     "execution_count": 67,
     "metadata": {},
     "output_type": "execute_result"
    }
   ],
   "source": [
    "lr.fit(X_train_tfidf,y_train)"
   ]
  },
  {
   "cell_type": "code",
   "execution_count": 68,
   "id": "a55d4d42",
   "metadata": {},
   "outputs": [],
   "source": [
    "y_pred=lr.predict(X_train_tfidf)\n"
   ]
  },
  {
   "cell_type": "code",
   "execution_count": 69,
   "id": "1f27430e",
   "metadata": {},
   "outputs": [
    {
     "data": {
      "text/plain": [
       "0.9522388059701492"
      ]
     },
     "execution_count": 69,
     "metadata": {},
     "output_type": "execute_result"
    }
   ],
   "source": [
    "accuracy_score(y_train,y_pred)"
   ]
  },
  {
   "cell_type": "code",
   "execution_count": 70,
   "id": "46cd0954",
   "metadata": {},
   "outputs": [],
   "source": [
    "y_pred=lr.predict(X_test_tfidf)\n"
   ]
  },
  {
   "cell_type": "code",
   "execution_count": 71,
   "id": "e52fa8f1",
   "metadata": {},
   "outputs": [
    {
     "data": {
      "text/plain": [
       "0.7727272727272727"
      ]
     },
     "execution_count": 71,
     "metadata": {},
     "output_type": "execute_result"
    }
   ],
   "source": [
    "accuracy_score(y_test,y_pred)"
   ]
  },
  {
   "cell_type": "code",
   "execution_count": 72,
   "id": "c07e5bdc",
   "metadata": {},
   "outputs": [],
   "source": [
    "cm=confusion_matrix(y_test,y_pred)"
   ]
  },
  {
   "cell_type": "code",
   "execution_count": 73,
   "id": "22ef05d9",
   "metadata": {},
   "outputs": [
    {
     "data": {
      "text/plain": [
       "<AxesSubplot:>"
      ]
     },
     "execution_count": 73,
     "metadata": {},
     "output_type": "execute_result"
    },
    {
     "data": {
      "image/png": "[encoded data removed]",
      "text/plain": [
       "<Figure size 432x288 with 2 Axes>"
      ]
     },
     "metadata": {
      "needs_background": "light"
     },
     "output_type": "display_data"
    }
   ],
   "source": [
    "sns.heatmap(data=cm,fmt='d',annot=True)"
   ]
  },
  {
   "cell_type": "code",
   "execution_count": 74,
   "id": "8af0ae04",
   "metadata": {},
   "outputs": [
    {
     "name": "stdout",
     "output_type": "stream",
     "text": [
      "              precision    recall  f1-score   support\n",
      "\n",
      "           0       0.78      0.79      0.79       173\n",
      "           1       0.77      0.75      0.76       157\n",
      "\n",
      "    accuracy                           0.77       330\n",
      "   macro avg       0.77      0.77      0.77       330\n",
      "weighted avg       0.77      0.77      0.77       330\n",
      "\n"
     ]
    }
   ],
   "source": [
    "print(classification_report(y_test,y_pred))"
   ]
  },
  {
   "cell_type": "code",
   "execution_count": null,
   "id": "1d6ba87f",
   "metadata": {},
   "outputs": [],
   "source": []
  },
  {
   "cell_type": "code",
   "execution_count": 75,
   "id": "a595fcbb",
   "metadata": {},
   "outputs": [],
   "source": [
    "def predict_emotion(ele):\n",
    "    ele=[ele]\n",
    "    input_tfidf=tdidf_Vectorizer.transform(ele)\n",
    "    predicted_label=lr.predict(input_tfidf)\n",
    "    return predicted_label"
   ]
  },
  {
   "cell_type": "code",
   "execution_count": 76,
   "id": "27ff51b0",
   "metadata": {},
   "outputs": [
    {
     "name": "stdout",
     "output_type": "stream",
     "text": [
      "Enter a commentnot come again\n"
     ]
    }
   ],
   "source": [
    "user_input=input(\"Enter a comment\")\n"
   ]
  },
  {
   "cell_type": "code",
   "execution_count": 77,
   "id": "13836d1d",
   "metadata": {},
   "outputs": [],
   "source": [
    "emotion=predict_emotion(user_input)\n"
   ]
  },
  {
   "cell_type": "code",
   "execution_count": 78,
   "id": "e8422a09",
   "metadata": {},
   "outputs": [
    {
     "name": "stdout",
     "output_type": "stream",
     "text": [
      "[0]\n"
     ]
    }
   ],
   "source": [
    "print(emotion)"
   ]
  },
  {
   "cell_type": "markdown",
   "id": "e84df39b",
   "metadata": {},
   "source": [
    "# KNeighborsClassifier"
   ]
  },
  {
   "cell_type": "code",
   "execution_count": 79,
   "id": "e62f4ec3",
   "metadata": {},
   "outputs": [],
   "source": [
    "knc=KNeighborsClassifier()\n"
   ]
  },
  {
   "cell_type": "code",
   "execution_count": 80,
   "id": "5c1516a8",
   "metadata": {},
   "outputs": [
    {
     "data": {
      "text/plain": [
       "KNeighborsClassifier()"
      ]
     },
     "execution_count": 80,
     "metadata": {},
     "output_type": "execute_result"
    }
   ],
   "source": [
    "knc.fit(X_train_tfidf,y_train)"
   ]
  },
  {
   "cell_type": "code",
   "execution_count": 81,
   "id": "9ea46735",
   "metadata": {},
   "outputs": [],
   "source": [
    "y_pred=knc.predict(X_train_tfidf)\n"
   ]
  },
  {
   "cell_type": "code",
   "execution_count": 82,
   "id": "271a22b4",
   "metadata": {},
   "outputs": [
    {
     "data": {
      "text/plain": [
       "0.8567164179104477"
      ]
     },
     "execution_count": 82,
     "metadata": {},
     "output_type": "execute_result"
    }
   ],
   "source": [
    "accuracy_score(y_train,y_pred)"
   ]
  },
  {
   "cell_type": "code",
   "execution_count": 83,
   "id": "8cfe2a9a",
   "metadata": {},
   "outputs": [],
   "source": [
    "y_pred=knc.predict(X_test_tfidf)\n"
   ]
  },
  {
   "cell_type": "code",
   "execution_count": 84,
   "id": "f71e31f1",
   "metadata": {},
   "outputs": [
    {
     "data": {
      "text/plain": [
       "0.7393939393939394"
      ]
     },
     "execution_count": 84,
     "metadata": {},
     "output_type": "execute_result"
    }
   ],
   "source": [
    "accuracy_score(y_test,y_pred)"
   ]
  },
  {
   "cell_type": "code",
   "execution_count": 85,
   "id": "cbbbd448",
   "metadata": {},
   "outputs": [],
   "source": [
    "cm=confusion_matrix(y_test,y_pred)"
   ]
  },
  {
   "cell_type": "code",
   "execution_count": 86,
   "id": "583f7df2",
   "metadata": {},
   "outputs": [
    {
     "data": {
      "text/plain": [
       "<AxesSubplot:>"
      ]
     },
     "execution_count": 86,
     "metadata": {},
     "output_type": "execute_result"
    },
    {
     "data": {
      "image/png": "[encoded data removed]",
      "text/plain": [
       "<Figure size 432x288 with 2 Axes>"
      ]
     },
     "metadata": {
      "needs_background": "light"
     },
     "output_type": "display_data"
    }
   ],
   "source": [
    "sns.heatmap(data=cm,fmt='d',annot=True)"
   ]
  },
  {
   "cell_type": "code",
   "execution_count": 87,
   "id": "1a332b2c",
   "metadata": {},
   "outputs": [
    {
     "name": "stdout",
     "output_type": "stream",
     "text": [
      "              precision    recall  f1-score   support\n",
      "\n",
      "           0       0.72      0.82      0.77       173\n",
      "           1       0.76      0.66      0.71       157\n",
      "\n",
      "    accuracy                           0.74       330\n",
      "   macro avg       0.74      0.74      0.74       330\n",
      "weighted avg       0.74      0.74      0.74       330\n",
      "\n"
     ]
    }
   ],
   "source": [
    "print(classification_report(y_test,y_pred))"
   ]
  },
  {
   "cell_type": "code",
   "execution_count": 88,
   "id": "8e62100d",
   "metadata": {},
   "outputs": [],
   "source": [
    "def predict_emotion(ele):\n",
    "    ele=[ele]\n",
    "    input_tfidf=tdidf_Vectorizer.transform(ele)\n",
    "    predicted_label=knc.predict(input_tfidf)\n",
    "    return predicted_label"
   ]
  },
  {
   "cell_type": "code",
   "execution_count": 89,
   "id": "f7f404d3",
   "metadata": {},
   "outputs": [
    {
     "name": "stdout",
     "output_type": "stream",
     "text": [
      "Enter a commentfood is bad\n"
     ]
    }
   ],
   "source": [
    "user_input=input(\"Enter a comment\")\n"
   ]
  },
  {
   "cell_type": "code",
   "execution_count": 90,
   "id": "e8075a3d",
   "metadata": {},
   "outputs": [],
   "source": [
    "emotion=predict_emotion(user_input)\n"
   ]
  },
  {
   "cell_type": "code",
   "execution_count": 91,
   "id": "dbd2dfd4",
   "metadata": {},
   "outputs": [
    {
     "name": "stdout",
     "output_type": "stream",
     "text": [
      "[0]\n"
     ]
    }
   ],
   "source": [
    "print(emotion)"
   ]
  },
  {
   "cell_type": "markdown",
   "id": "83da3889",
   "metadata": {},
   "source": [
    "# XGBClassifier"
   ]
  },
  {
   "cell_type": "code",
   "execution_count": 92,
   "id": "5885bc42",
   "metadata": {},
   "outputs": [],
   "source": [
    "xgb_i=xgb.XGBClassifier()"
   ]
  },
  {
   "cell_type": "code",
   "execution_count": 93,
   "id": "4e3de2df",
   "metadata": {},
   "outputs": [
    {
     "data": {
      "text/plain": [
       "XGBClassifier(base_score=None, booster=None, callbacks=None,\n",
       "              colsample_bylevel=None, colsample_bynode=None,\n",
       "              colsample_bytree=None, early_stopping_rounds=None,\n",
       "              enable_categorical=False, eval_metric=None, feature_types=None,\n",
       "              gamma=None, gpu_id=None, grow_policy=None, importance_type=None,\n",
       "              interaction_constraints=None, learning_rate=None, max_bin=None,\n",
       "              max_cat_threshold=None, max_cat_to_onehot=None,\n",
       "              max_delta_step=None, max_depth=None, max_leaves=None,\n",
       "              min_child_weight=None, missing=nan, monotone_constraints=None,\n",
       "              n_estimators=100, n_jobs=None, num_parallel_tree=None,\n",
       "              predictor=None, random_state=None, ...)"
      ]
     },
     "execution_count": 93,
     "metadata": {},
     "output_type": "execute_result"
    }
   ],
   "source": [
    "xgb_i.fit(X_train_tfidf,y_train)"
   ]
  },
  {
   "cell_type": "code",
   "execution_count": 94,
   "id": "355aaa3b",
   "metadata": {},
   "outputs": [],
   "source": [
    "y_pred=xgb_i.predict(X_train_tfidf)\n"
   ]
  },
  {
   "cell_type": "code",
   "execution_count": 95,
   "id": "70b3d14d",
   "metadata": {},
   "outputs": [
    {
     "data": {
      "text/plain": [
       "0.9149253731343283"
      ]
     },
     "execution_count": 95,
     "metadata": {},
     "output_type": "execute_result"
    }
   ],
   "source": [
    "accuracy_score(y_train,y_pred)"
   ]
  },
  {
   "cell_type": "code",
   "execution_count": 96,
   "id": "f1deb415",
   "metadata": {},
   "outputs": [],
   "source": [
    "y_pred=xgb_i.predict(X_test_tfidf)\n"
   ]
  },
  {
   "cell_type": "code",
   "execution_count": 97,
   "id": "c07e537c",
   "metadata": {},
   "outputs": [
    {
     "data": {
      "text/plain": [
       "0.7181818181818181"
      ]
     },
     "execution_count": 97,
     "metadata": {},
     "output_type": "execute_result"
    }
   ],
   "source": [
    "accuracy_score(y_test,y_pred)"
   ]
  },
  {
   "cell_type": "code",
   "execution_count": 98,
   "id": "1976d1a0",
   "metadata": {},
   "outputs": [],
   "source": [
    "cm=confusion_matrix(y_test,y_pred)"
   ]
  },
  {
   "cell_type": "code",
   "execution_count": 99,
   "id": "1bf501fb",
   "metadata": {},
   "outputs": [
    {
     "data": {
      "text/plain": [
       "<AxesSubplot:>"
      ]
     },
     "execution_count": 99,
     "metadata": {},
     "output_type": "execute_result"
    },
    {
     "data": {
      "image/png": "[encoded data removed]",
      "text/plain": [
       "<Figure size 432x288 with 2 Axes>"
      ]
     },
     "metadata": {
      "needs_background": "light"
     },
     "output_type": "display_data"
    }
   ],
   "source": [
    "sns.heatmap(data=cm,fmt='d',annot=True)"
   ]
  },
  {
   "cell_type": "code",
   "execution_count": 100,
   "id": "eb3368ea",
   "metadata": {},
   "outputs": [
    {
     "name": "stdout",
     "output_type": "stream",
     "text": [
      "              precision    recall  f1-score   support\n",
      "\n",
      "           0       0.70      0.80      0.75       173\n",
      "           1       0.74      0.63      0.68       157\n",
      "\n",
      "    accuracy                           0.72       330\n",
      "   macro avg       0.72      0.71      0.71       330\n",
      "weighted avg       0.72      0.72      0.72       330\n",
      "\n"
     ]
    }
   ],
   "source": [
    "print(classification_report(y_test,y_pred))"
   ]
  },
  {
   "cell_type": "code",
   "execution_count": 101,
   "id": "55106896",
   "metadata": {},
   "outputs": [],
   "source": [
    "def predict_emotion(ele):\n",
    "    ele=[ele]\n",
    "    input_tfidf=tdidf_Vectorizer.transform(ele)\n",
    "    predicted_label=xgb_i.predict(input_tfidf)\n",
    "    return predicted_label"
   ]
  },
  {
   "cell_type": "code",
   "execution_count": 102,
   "id": "300ee42e",
   "metadata": {},
   "outputs": [
    {
     "name": "stdout",
     "output_type": "stream",
     "text": [
      "Enter a commentfood is not taste \n"
     ]
    }
   ],
   "source": [
    "user_input=input(\"Enter a comment\")\n"
   ]
  },
  {
   "cell_type": "code",
   "execution_count": 103,
   "id": "a68a2d95",
   "metadata": {},
   "outputs": [],
   "source": [
    "emotion=predict_emotion(user_input)\n"
   ]
  },
  {
   "cell_type": "code",
   "execution_count": 104,
   "id": "2af465ab",
   "metadata": {},
   "outputs": [
    {
     "name": "stdout",
     "output_type": "stream",
     "text": [
      "[0]\n"
     ]
    }
   ],
   "source": [
    "print(emotion)"
   ]
  },
  {
   "cell_type": "code",
   "execution_count": null,
   "id": "1a993313",
   "metadata": {},
   "outputs": [],
   "source": []
  },
  {
   "cell_type": "code",
   "execution_count": null,
   "id": "b006a11a",
   "metadata": {},
   "outputs": [],
   "source": []
  }
 ],
 "metadata": {
  "kernelspec": {
   "display_name": "Python 3 (ipykernel)",
   "language": "python",
   "name": "python3"
  },
  "language_info": {
   "codemirror_mode": {
    "name": "ipython",
    "version": 3
   },
   "file_extension": ".py",
   "mimetype": "text/x-python",
   "name": "python",
   "nbconvert_exporter": "python",
   "pygments_lexer": "ipython3",
   "version": "3.9.12"
  }
 },
 "nbformat": 4,
 "nbformat_minor": 5
}
