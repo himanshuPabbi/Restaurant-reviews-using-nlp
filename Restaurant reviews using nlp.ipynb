{
 "cells": [
  {
   "cell_type": "code",
   "execution_count": 1,
   "id": "1b229fe3",
   "metadata": {},
   "outputs": [],
   "source": [
    "import pandas as pd"
   ]
  },
  {
   "cell_type": "code",
   "execution_count": 2,
   "id": "630de815",
   "metadata": {},
   "outputs": [],
   "source": [
    "import numpy as np"
   ]
  },
  {
   "cell_type": "code",
   "execution_count": 3,
   "id": "c58bd9f1",
   "metadata": {},
   "outputs": [],
   "source": [
    "import matplotlib.pyplot as plt"
   ]
  },
  {
   "cell_type": "code",
   "execution_count": 4,
   "id": "73c8586e",
   "metadata": {},
   "outputs": [],
   "source": [
    "from sklearn.preprocessing import LabelEncoder"
   ]
  },
  {
   "cell_type": "code",
   "execution_count": 5,
   "id": "8dd1be2c",
   "metadata": {},
   "outputs": [],
   "source": [
    "from sklearn.feature_extraction.text import TfidfVectorizer"
   ]
  },
  {
   "cell_type": "code",
   "execution_count": 6,
   "id": "0b55b3e8",
   "metadata": {},
   "outputs": [],
   "source": [
    "from sklearn.model_selection import train_test_split"
   ]
  },
  {
   "cell_type": "code",
   "execution_count": 7,
   "id": "3f6a8760",
   "metadata": {},
   "outputs": [],
   "source": [
    "from sklearn.ensemble import RandomForestClassifier"
   ]
  },
  {
   "cell_type": "code",
   "execution_count": 8,
   "id": "bbe7b785",
   "metadata": {},
   "outputs": [],
   "source": [
    "from sklearn.metrics import accuracy_score,confusion_matrix,classification_report"
   ]
  },
  {
   "cell_type": "code",
   "execution_count": 9,
   "id": "e57811c6",
   "metadata": {},
   "outputs": [],
   "source": [
    "import seaborn as sns"
   ]
  },
  {
   "cell_type": "code",
   "execution_count": 10,
   "id": "d5a56294",
   "metadata": {},
   "outputs": [],
   "source": [
    "from wordcloud import WordCloud"
   ]
  },
  {
   "cell_type": "code",
   "execution_count": 11,
   "id": "96c7f04d",
   "metadata": {},
   "outputs": [],
   "source": [
    "from collections import Counter"
   ]
  },
  {
   "cell_type": "code",
   "execution_count": 12,
   "id": "0c604cd2",
   "metadata": {},
   "outputs": [],
   "source": [
    "from sklearn.linear_model import LogisticRegression "
   ]
  },
  {
   "cell_type": "code",
   "execution_count": 13,
   "id": "1f0e67f4",
   "metadata": {},
   "outputs": [],
   "source": [
    "from sklearn.neighbors import KNeighborsClassifier"
   ]
  },
  {
   "cell_type": "code",
   "execution_count": 14,
   "id": "d56e790c",
   "metadata": {},
   "outputs": [],
   "source": [
    "import xgboost as xgb"
   ]
  },
  {
   "cell_type": "code",
   "execution_count": 15,
   "id": "2529e73b",
   "metadata": {},
   "outputs": [],
   "source": [
    "import nltk"
   ]
  },
  {
   "cell_type": "code",
   "execution_count": 16,
   "id": "ab3fbc7f",
   "metadata": {},
   "outputs": [],
   "source": [
    "from nltk.corpus import stopwords"
   ]
  },
  {
   "cell_type": "code",
   "execution_count": 17,
   "id": "2569737d",
   "metadata": {},
   "outputs": [],
   "source": [
    "df = pd.read_csv('Restaurant_Reviews.tsv', delimiter = '\\t', quoting = 3)"
   ]
  },
  {
   "cell_type": "code",
   "execution_count": 18,
   "id": "fa6f3595",
   "metadata": {},
   "outputs": [
    {
     "data": {
      "text/html": [
       "<div>\n",
       "<style scoped>\n",
       "    .dataframe tbody tr th:only-of-type {\n",
       "        vertical-align: middle;\n",
       "    }\n",
       "\n",
       "    .dataframe tbody tr th {\n",
       "        vertical-align: top;\n",
       "    }\n",
       "\n",
       "    .dataframe thead th {\n",
       "        text-align: right;\n",
       "    }\n",
       "</style>\n",
       "<table border=\"1\" class=\"dataframe\">\n",
       "  <thead>\n",
       "    <tr style=\"text-align: right;\">\n",
       "      <th></th>\n",
       "      <th>Review</th>\n",
       "      <th>Liked</th>\n",
       "    </tr>\n",
       "  </thead>\n",
       "  <tbody>\n",
       "    <tr>\n",
       "      <th>0</th>\n",
       "      <td>Wow... Loved this place.</td>\n",
       "      <td>1</td>\n",
       "    </tr>\n",
       "    <tr>\n",
       "      <th>1</th>\n",
       "      <td>Crust is not good.</td>\n",
       "      <td>0</td>\n",
       "    </tr>\n",
       "    <tr>\n",
       "      <th>2</th>\n",
       "      <td>Not tasty and the texture was just nasty.</td>\n",
       "      <td>0</td>\n",
       "    </tr>\n",
       "    <tr>\n",
       "      <th>3</th>\n",
       "      <td>Stopped by during the late May bank holiday of...</td>\n",
       "      <td>1</td>\n",
       "    </tr>\n",
       "    <tr>\n",
       "      <th>4</th>\n",
       "      <td>The selection on the menu was great and so wer...</td>\n",
       "      <td>1</td>\n",
       "    </tr>\n",
       "    <tr>\n",
       "      <th>...</th>\n",
       "      <td>...</td>\n",
       "      <td>...</td>\n",
       "    </tr>\n",
       "    <tr>\n",
       "      <th>995</th>\n",
       "      <td>I think food should have flavor and texture an...</td>\n",
       "      <td>0</td>\n",
       "    </tr>\n",
       "    <tr>\n",
       "      <th>996</th>\n",
       "      <td>Appetite instantly gone.</td>\n",
       "      <td>0</td>\n",
       "    </tr>\n",
       "    <tr>\n",
       "      <th>997</th>\n",
       "      <td>Overall I was not impressed and would not go b...</td>\n",
       "      <td>0</td>\n",
       "    </tr>\n",
       "    <tr>\n",
       "      <th>998</th>\n",
       "      <td>The whole experience was underwhelming, and I ...</td>\n",
       "      <td>0</td>\n",
       "    </tr>\n",
       "    <tr>\n",
       "      <th>999</th>\n",
       "      <td>Then, as if I hadn't wasted enough of my life ...</td>\n",
       "      <td>0</td>\n",
       "    </tr>\n",
       "  </tbody>\n",
       "</table>\n",
       "<p>1000 rows × 2 columns</p>\n",
       "</div>"
      ],
      "text/plain": [
       "                                                Review  Liked\n",
       "0                             Wow... Loved this place.      1\n",
       "1                                   Crust is not good.      0\n",
       "2            Not tasty and the texture was just nasty.      0\n",
       "3    Stopped by during the late May bank holiday of...      1\n",
       "4    The selection on the menu was great and so wer...      1\n",
       "..                                                 ...    ...\n",
       "995  I think food should have flavor and texture an...      0\n",
       "996                           Appetite instantly gone.      0\n",
       "997  Overall I was not impressed and would not go b...      0\n",
       "998  The whole experience was underwhelming, and I ...      0\n",
       "999  Then, as if I hadn't wasted enough of my life ...      0\n",
       "\n",
       "[1000 rows x 2 columns]"
      ]
     },
     "execution_count": 18,
     "metadata": {},
     "output_type": "execute_result"
    }
   ],
   "source": [
    "df"
   ]
  },
  {
   "cell_type": "code",
   "execution_count": 19,
   "id": "24743402",
   "metadata": {},
   "outputs": [
    {
     "name": "stdout",
     "output_type": "stream",
     "text": [
      "<class 'pandas.core.frame.DataFrame'>\n",
      "RangeIndex: 1000 entries, 0 to 999\n",
      "Data columns (total 2 columns):\n",
      " #   Column  Non-Null Count  Dtype \n",
      "---  ------  --------------  ----- \n",
      " 0   Review  1000 non-null   object\n",
      " 1   Liked   1000 non-null   int64 \n",
      "dtypes: int64(1), object(1)\n",
      "memory usage: 15.8+ KB\n"
     ]
    }
   ],
   "source": [
    "df.info()"
   ]
  },
  {
   "cell_type": "code",
   "execution_count": 20,
   "id": "5572a696",
   "metadata": {},
   "outputs": [
    {
     "data": {
      "text/html": [
       "<div>\n",
       "<style scoped>\n",
       "    .dataframe tbody tr th:only-of-type {\n",
       "        vertical-align: middle;\n",
       "    }\n",
       "\n",
       "    .dataframe tbody tr th {\n",
       "        vertical-align: top;\n",
       "    }\n",
       "\n",
       "    .dataframe thead th {\n",
       "        text-align: right;\n",
       "    }\n",
       "</style>\n",
       "<table border=\"1\" class=\"dataframe\">\n",
       "  <thead>\n",
       "    <tr style=\"text-align: right;\">\n",
       "      <th></th>\n",
       "      <th>Review</th>\n",
       "      <th>Liked</th>\n",
       "    </tr>\n",
       "  </thead>\n",
       "  <tbody>\n",
       "    <tr>\n",
       "      <th>count</th>\n",
       "      <td>1000</td>\n",
       "      <td>1000.00000</td>\n",
       "    </tr>\n",
       "    <tr>\n",
       "      <th>unique</th>\n",
       "      <td>996</td>\n",
       "      <td>NaN</td>\n",
       "    </tr>\n",
       "    <tr>\n",
       "      <th>top</th>\n",
       "      <td>I would not recommend this place.</td>\n",
       "      <td>NaN</td>\n",
       "    </tr>\n",
       "    <tr>\n",
       "      <th>freq</th>\n",
       "      <td>2</td>\n",
       "      <td>NaN</td>\n",
       "    </tr>\n",
       "    <tr>\n",
       "      <th>mean</th>\n",
       "      <td>NaN</td>\n",
       "      <td>0.50000</td>\n",
       "    </tr>\n",
       "    <tr>\n",
       "      <th>std</th>\n",
       "      <td>NaN</td>\n",
       "      <td>0.50025</td>\n",
       "    </tr>\n",
       "    <tr>\n",
       "      <th>min</th>\n",
       "      <td>NaN</td>\n",
       "      <td>0.00000</td>\n",
       "    </tr>\n",
       "    <tr>\n",
       "      <th>25%</th>\n",
       "      <td>NaN</td>\n",
       "      <td>0.00000</td>\n",
       "    </tr>\n",
       "    <tr>\n",
       "      <th>50%</th>\n",
       "      <td>NaN</td>\n",
       "      <td>0.50000</td>\n",
       "    </tr>\n",
       "    <tr>\n",
       "      <th>75%</th>\n",
       "      <td>NaN</td>\n",
       "      <td>1.00000</td>\n",
       "    </tr>\n",
       "    <tr>\n",
       "      <th>max</th>\n",
       "      <td>NaN</td>\n",
       "      <td>1.00000</td>\n",
       "    </tr>\n",
       "  </tbody>\n",
       "</table>\n",
       "</div>"
      ],
      "text/plain": [
       "                                   Review       Liked\n",
       "count                                1000  1000.00000\n",
       "unique                                996         NaN\n",
       "top     I would not recommend this place.         NaN\n",
       "freq                                    2         NaN\n",
       "mean                                  NaN     0.50000\n",
       "std                                   NaN     0.50025\n",
       "min                                   NaN     0.00000\n",
       "25%                                   NaN     0.00000\n",
       "50%                                   NaN     0.50000\n",
       "75%                                   NaN     1.00000\n",
       "max                                   NaN     1.00000"
      ]
     },
     "execution_count": 20,
     "metadata": {},
     "output_type": "execute_result"
    }
   ],
   "source": [
    "df.describe(include=\"all\")"
   ]
  },
  {
   "cell_type": "code",
   "execution_count": 21,
   "id": "6a521c30",
   "metadata": {},
   "outputs": [
    {
     "data": {
      "text/plain": [
       "Index(['Review', 'Liked'], dtype='object')"
      ]
     },
     "execution_count": 21,
     "metadata": {},
     "output_type": "execute_result"
    }
   ],
   "source": [
    "df.columns"
   ]
  },
  {
   "cell_type": "code",
   "execution_count": 22,
   "id": "b8923d44",
   "metadata": {},
   "outputs": [
    {
     "data": {
      "text/plain": [
       "(1000, 2)"
      ]
     },
     "execution_count": 22,
     "metadata": {},
     "output_type": "execute_result"
    }
   ],
   "source": [
    "df.shape"
   ]
  },
  {
   "cell_type": "code",
   "execution_count": 23,
   "id": "ec2820a2",
   "metadata": {
    "scrolled": false
   },
   "outputs": [
    {
     "data": {
      "image/png": "[encoded data removed]",
      "text/plain": [
       "<Figure size 720x360 with 1 Axes>"
      ]
     },
     "metadata": {
      "needs_background": "light"
     },
     "output_type": "display_data"
    }
   ],
   "source": [
    "wordcloud = WordCloud(width=800, height=400, background_color='white').generate(' '.join(df['Review']))\n",
    "\n",
    "# Show the word cloud\n",
    "plt.figure(figsize=(10, 5))\n",
    "plt.imshow(wordcloud, interpolation='bilinear')\n",
    "plt.axis('off')\n",
    "plt.show()"
   ]
  },
  {
   "cell_type": "code",
   "execution_count": 24,
   "id": "9054f00b",
   "metadata": {},
   "outputs": [
    {
     "name": "stderr",
     "output_type": "stream",
     "text": [
      "[nltk_data] Downloading package stopwords to\n",
      "[nltk_data]     C:\\Users\\himanshu\\AppData\\Roaming\\nltk_data...\n",
      "[nltk_data]   Package stopwords is already up-to-date!\n"
     ]
    },
    {
     "data": {
      "text/plain": [
       "True"
      ]
     },
     "execution_count": 24,
     "metadata": {},
     "output_type": "execute_result"
    }
   ],
   "source": [
    "nltk.download('stopwords')"
   ]
  },
  {
   "cell_type": "code",
   "execution_count": 25,
   "id": "9e4361fc",
   "metadata": {},
   "outputs": [],
   "source": [
    "stop_words = set(stopwords.words('english'))\n"
   ]
  },
  {
   "cell_type": "code",
   "execution_count": 26,
   "id": "37ebfe4c",
   "metadata": {},
   "outputs": [],
   "source": [
    "def RemoveStopWords(ele):\n",
    "    lis=ele.split()\n",
    "    result=[]\n",
    "    \n",
    "    for i in lis:\n",
    "        if i not in stop_words:\n",
    "            result.append(i)\n",
    "    \n",
    "    return \" \".join(result)\n",
    "    "
   ]
  },
  {
   "cell_type": "code",
   "execution_count": 27,
   "id": "fd9884cc",
   "metadata": {},
   "outputs": [],
   "source": [
    "df['Review']=df['Review'].apply(RemoveStopWords)"
   ]
  },
  {
   "cell_type": "code",
   "execution_count": 28,
   "id": "6c8bfcc4",
   "metadata": {},
   "outputs": [
    {
     "data": {
      "text/html": [
       "<div>\n",
       "<style scoped>\n",
       "    .dataframe tbody tr th:only-of-type {\n",
       "        vertical-align: middle;\n",
       "    }\n",
       "\n",
       "    .dataframe tbody tr th {\n",
       "        vertical-align: top;\n",
       "    }\n",
       "\n",
       "    .dataframe thead th {\n",
       "        text-align: right;\n",
       "    }\n",
       "</style>\n",
       "<table border=\"1\" class=\"dataframe\">\n",
       "  <thead>\n",
       "    <tr style=\"text-align: right;\">\n",
       "      <th></th>\n",
       "      <th>Review</th>\n",
       "      <th>Liked</th>\n",
       "    </tr>\n",
       "  </thead>\n",
       "  <tbody>\n",
       "    <tr>\n",
       "      <th>0</th>\n",
       "      <td>Wow... Loved place.</td>\n",
       "      <td>1</td>\n",
       "    </tr>\n",
       "    <tr>\n",
       "      <th>1</th>\n",
       "      <td>Crust good.</td>\n",
       "      <td>0</td>\n",
       "    </tr>\n",
       "    <tr>\n",
       "      <th>2</th>\n",
       "      <td>Not tasty texture nasty.</td>\n",
       "      <td>0</td>\n",
       "    </tr>\n",
       "    <tr>\n",
       "      <th>3</th>\n",
       "      <td>Stopped late May bank holiday Rick Steve recom...</td>\n",
       "      <td>1</td>\n",
       "    </tr>\n",
       "    <tr>\n",
       "      <th>4</th>\n",
       "      <td>The selection menu great prices.</td>\n",
       "      <td>1</td>\n",
       "    </tr>\n",
       "    <tr>\n",
       "      <th>...</th>\n",
       "      <td>...</td>\n",
       "      <td>...</td>\n",
       "    </tr>\n",
       "    <tr>\n",
       "      <th>995</th>\n",
       "      <td>I think food flavor texture lacking.</td>\n",
       "      <td>0</td>\n",
       "    </tr>\n",
       "    <tr>\n",
       "      <th>996</th>\n",
       "      <td>Appetite instantly gone.</td>\n",
       "      <td>0</td>\n",
       "    </tr>\n",
       "    <tr>\n",
       "      <th>997</th>\n",
       "      <td>Overall I impressed would go back.</td>\n",
       "      <td>0</td>\n",
       "    </tr>\n",
       "    <tr>\n",
       "      <th>998</th>\n",
       "      <td>The whole experience underwhelming, I think we...</td>\n",
       "      <td>0</td>\n",
       "    </tr>\n",
       "    <tr>\n",
       "      <th>999</th>\n",
       "      <td>Then, I wasted enough life there, poured salt ...</td>\n",
       "      <td>0</td>\n",
       "    </tr>\n",
       "  </tbody>\n",
       "</table>\n",
       "<p>1000 rows × 2 columns</p>\n",
       "</div>"
      ],
      "text/plain": [
       "                                                Review  Liked\n",
       "0                                  Wow... Loved place.      1\n",
       "1                                          Crust good.      0\n",
       "2                             Not tasty texture nasty.      0\n",
       "3    Stopped late May bank holiday Rick Steve recom...      1\n",
       "4                     The selection menu great prices.      1\n",
       "..                                                 ...    ...\n",
       "995               I think food flavor texture lacking.      0\n",
       "996                           Appetite instantly gone.      0\n",
       "997                 Overall I impressed would go back.      0\n",
       "998  The whole experience underwhelming, I think we...      0\n",
       "999  Then, I wasted enough life there, poured salt ...      0\n",
       "\n",
       "[1000 rows x 2 columns]"
      ]
     },
     "execution_count": 28,
     "metadata": {},
     "output_type": "execute_result"
    }
   ],
   "source": [
    "df"
   ]
  },
  {
   "cell_type": "code",
   "execution_count": 29,
   "id": "d37d621e",
   "metadata": {},
   "outputs": [],
   "source": [
    "word_freq = Counter(' '.join(df['Review']).split())\n"
   ]
  },
  {
   "cell_type": "code",
   "execution_count": 30,
   "id": "d3bae2f1",
   "metadata": {},
   "outputs": [
    {
     "data": {
      "text/plain": [
       "Counter({'Wow...': 1,\n",
       "         'Loved': 2,\n",
       "         'place.': 20,\n",
       "         'Crust': 1,\n",
       "         'good.': 22,\n",
       "         'Not': 11,\n",
       "         'tasty': 6,\n",
       "         'texture': 3,\n",
       "         'nasty.': 1,\n",
       "         'Stopped': 2,\n",
       "         'late': 1,\n",
       "         'May': 1,\n",
       "         'bank': 1,\n",
       "         'holiday': 1,\n",
       "         'Rick': 1,\n",
       "         'Steve': 1,\n",
       "         'recommendation': 3,\n",
       "         'loved': 6,\n",
       "         'it.': 16,\n",
       "         'The': 177,\n",
       "         'selection': 7,\n",
       "         'menu': 9,\n",
       "         'great': 37,\n",
       "         'prices.': 3,\n",
       "         'Now': 4,\n",
       "         'I': 294,\n",
       "         'getting': 7,\n",
       "         'angry': 1,\n",
       "         'want': 13,\n",
       "         'damn': 3,\n",
       "         'pho.': 1,\n",
       "         'Honeslty': 1,\n",
       "         'taste': 9,\n",
       "         'THAT': 1,\n",
       "         'fresh.)': 1,\n",
       "         'potatoes': 2,\n",
       "         'like': 45,\n",
       "         'rubber': 1,\n",
       "         'could': 16,\n",
       "         'tell': 6,\n",
       "         'made': 15,\n",
       "         'ahead': 1,\n",
       "         'time': 35,\n",
       "         'kept': 5,\n",
       "         'warmer.': 1,\n",
       "         'fries': 8,\n",
       "         'too.': 4,\n",
       "         'A': 9,\n",
       "         'touch.': 1,\n",
       "         'Service': 15,\n",
       "         'prompt.': 1,\n",
       "         'Would': 3,\n",
       "         'go': 37,\n",
       "         'back.': 18,\n",
       "         'cashier': 2,\n",
       "         'care': 2,\n",
       "         'ever': 21,\n",
       "         'say': 12,\n",
       "         'still': 11,\n",
       "         'ended': 2,\n",
       "         'wayyy': 1,\n",
       "         'overpriced.': 2,\n",
       "         'tried': 6,\n",
       "         'Cape': 1,\n",
       "         'Cod': 1,\n",
       "         'ravoli,': 1,\n",
       "         'chicken,': 1,\n",
       "         'cranberry...mmmm!': 1,\n",
       "         'disgusted': 1,\n",
       "         'pretty': 16,\n",
       "         'sure': 7,\n",
       "         'human': 2,\n",
       "         'hair.': 1,\n",
       "         'shocked': 1,\n",
       "         'signs': 1,\n",
       "         'indicate': 1,\n",
       "         'cash': 1,\n",
       "         'only.': 2,\n",
       "         'Highly': 2,\n",
       "         'recommended.': 1,\n",
       "         'Waitress': 3,\n",
       "         'little': 10,\n",
       "         'slow': 7,\n",
       "         'service.': 16,\n",
       "         'This': 46,\n",
       "         'place': 76,\n",
       "         'worth': 10,\n",
       "         'time,': 1,\n",
       "         'let': 2,\n",
       "         'alone': 1,\n",
       "         'Vegas.': 9,\n",
       "         'all.': 2,\n",
       "         'Burrittos': 1,\n",
       "         'Blah!': 1,\n",
       "         'food,': 11,\n",
       "         'amazing.': 7,\n",
       "         'also': 21,\n",
       "         'cute.': 1,\n",
       "         'less...': 1,\n",
       "         'interior': 1,\n",
       "         'beautiful.': 1,\n",
       "         'So': 7,\n",
       "         'performed.': 1,\n",
       "         \"That's\": 1,\n",
       "         'right....the': 1,\n",
       "         'red': 2,\n",
       "         'velvet': 1,\n",
       "         'cake.....ohhh': 1,\n",
       "         'stuff': 2,\n",
       "         '-': 21,\n",
       "         'They': 18,\n",
       "         'never': 18,\n",
       "         'brought': 3,\n",
       "         'salad': 8,\n",
       "         'asked': 5,\n",
       "         'for.': 2,\n",
       "         'hole': 1,\n",
       "         'wall': 3,\n",
       "         'Mexican': 2,\n",
       "         'street': 1,\n",
       "         'tacos,': 1,\n",
       "         'friendly': 18,\n",
       "         'staff.': 6,\n",
       "         'Took': 1,\n",
       "         'hour': 4,\n",
       "         'get': 19,\n",
       "         'food': 80,\n",
       "         '4': 3,\n",
       "         'tables': 4,\n",
       "         'restaurant': 16,\n",
       "         'Luke': 1,\n",
       "         'warm,': 1,\n",
       "         'Our': 6,\n",
       "         'sever': 1,\n",
       "         'running': 4,\n",
       "         'around': 7,\n",
       "         'totally': 3,\n",
       "         'overwhelmed.': 1,\n",
       "         'worst': 8,\n",
       "         'salmon': 4,\n",
       "         'sashimi.': 1,\n",
       "         'Also': 2,\n",
       "         'combos': 1,\n",
       "         'burger,': 1,\n",
       "         'fries,': 1,\n",
       "         'beer': 6,\n",
       "         '23': 1,\n",
       "         'decent': 2,\n",
       "         'deal.': 1,\n",
       "         'final': 1,\n",
       "         'blow!': 1,\n",
       "         'found': 7,\n",
       "         'accident': 1,\n",
       "         'happier.': 1,\n",
       "         'seems': 2,\n",
       "         'good': 56,\n",
       "         'quick': 5,\n",
       "         'grab': 1,\n",
       "         'bite': 1,\n",
       "         'familiar': 1,\n",
       "         'pub': 1,\n",
       "         'favor': 2,\n",
       "         'look': 4,\n",
       "         'elsewhere.': 3,\n",
       "         'Overall,': 5,\n",
       "         'lot.': 1,\n",
       "         'redeeming': 1,\n",
       "         'quality': 13,\n",
       "         'inexpensive.': 1,\n",
       "         'Ample': 1,\n",
       "         'portions': 5,\n",
       "         'Poor': 1,\n",
       "         'service,': 8,\n",
       "         'waiter': 4,\n",
       "         'feel': 11,\n",
       "         'stupid': 1,\n",
       "         'every': 8,\n",
       "         'came': 20,\n",
       "         'table.': 5,\n",
       "         'My': 20,\n",
       "         'first': 15,\n",
       "         'visit': 1,\n",
       "         'Hiro': 1,\n",
       "         'delight!': 1,\n",
       "         'sucks.': 3,\n",
       "         'shrimp': 4,\n",
       "         'tender': 4,\n",
       "         'moist.': 2,\n",
       "         'There': 7,\n",
       "         'deal': 5,\n",
       "         'enough': 7,\n",
       "         'would': 25,\n",
       "         'drag': 1,\n",
       "         'establishment': 2,\n",
       "         'again.': 15,\n",
       "         'Hard': 2,\n",
       "         'judge': 2,\n",
       "         'whether': 1,\n",
       "         'sides': 2,\n",
       "         'grossed': 2,\n",
       "         'melted': 1,\n",
       "         'styrofoam': 1,\n",
       "         'eat': 17,\n",
       "         'fear': 1,\n",
       "         'sick.': 2,\n",
       "         'On': 5,\n",
       "         'positive': 1,\n",
       "         'note,': 1,\n",
       "         'server': 12,\n",
       "         'attentive': 3,\n",
       "         'provided': 1,\n",
       "         'Frozen': 1,\n",
       "         'pucks': 1,\n",
       "         'disgust,': 1,\n",
       "         'people': 4,\n",
       "         'behind': 2,\n",
       "         'register.': 1,\n",
       "         'thing': 7,\n",
       "         'prime': 1,\n",
       "         'rib': 1,\n",
       "         'dessert': 2,\n",
       "         'section.': 1,\n",
       "         \"It's\": 6,\n",
       "         'bad': 9,\n",
       "         'generic.': 1,\n",
       "         'burger': 8,\n",
       "         'beef,': 1,\n",
       "         'cooked': 4,\n",
       "         'right.': 1,\n",
       "         'If': 15,\n",
       "         'sandwich': 6,\n",
       "         'Firehouse!!!!!': 1,\n",
       "         'side': 5,\n",
       "         'Greek': 3,\n",
       "         'dressing': 3,\n",
       "         'tasty,': 1,\n",
       "         'pita': 1,\n",
       "         'hummus': 2,\n",
       "         'refreshing.': 1,\n",
       "         'We': 34,\n",
       "         'ordered': 10,\n",
       "         'duck': 3,\n",
       "         'rare': 4,\n",
       "         'pink': 1,\n",
       "         'inside': 5,\n",
       "         'nice': 16,\n",
       "         'char': 2,\n",
       "         'outside.': 1,\n",
       "         'He': 5,\n",
       "         'us': 15,\n",
       "         'realized': 2,\n",
       "         'husband': 4,\n",
       "         'left': 4,\n",
       "         'sunglasses': 1,\n",
       "         'Their': 8,\n",
       "         'chow': 1,\n",
       "         'mein': 1,\n",
       "         'good!': 3,\n",
       "         'horrible': 3,\n",
       "         'attitudes': 2,\n",
       "         'towards': 2,\n",
       "         'customers,': 1,\n",
       "         'talk': 4,\n",
       "         'one': 19,\n",
       "         'customers': 1,\n",
       "         'enjoy': 6,\n",
       "         'food.': 18,\n",
       "         'portion': 1,\n",
       "         'huge!': 1,\n",
       "         'it...friendly': 1,\n",
       "         'servers,': 1,\n",
       "         'wonderful': 6,\n",
       "         'imaginative': 1,\n",
       "         'menu.': 2,\n",
       "         'Heart': 1,\n",
       "         'Attack': 1,\n",
       "         'Grill': 1,\n",
       "         'downtown': 2,\n",
       "         'Vegas': 10,\n",
       "         'absolutely': 8,\n",
       "         'flat-lined': 1,\n",
       "         'excuse': 1,\n",
       "         'restaurant.': 6,\n",
       "         'much': 17,\n",
       "         'seafood': 4,\n",
       "         '5': 8,\n",
       "         'strings': 1,\n",
       "         'pasta': 4,\n",
       "         'bottom.': 1,\n",
       "         'right': 7,\n",
       "         'amount': 3,\n",
       "         'sauce': 7,\n",
       "         'power': 1,\n",
       "         'scallop,': 1,\n",
       "         'perfectly': 3,\n",
       "         'cooked.': 2,\n",
       "         'ripped': 1,\n",
       "         'banana': 1,\n",
       "         'ripped,': 1,\n",
       "         'petrified': 1,\n",
       "         'tasteless.': 4,\n",
       "         'At': 3,\n",
       "         'least': 4,\n",
       "         'think': 16,\n",
       "         'refill': 2,\n",
       "         'water': 2,\n",
       "         'struggle': 1,\n",
       "         'wave': 1,\n",
       "         '10': 4,\n",
       "         'minutes.': 3,\n",
       "         'receives': 1,\n",
       "         'stars': 7,\n",
       "         'APPETIZERS!!!': 1,\n",
       "         'cocktails': 1,\n",
       "         'handmade': 1,\n",
       "         'delicious.': 7,\n",
       "         \"We'd\": 1,\n",
       "         'definitely': 15,\n",
       "         'back': 34,\n",
       "         'glad': 2,\n",
       "         'Great': 19,\n",
       "         'huge': 4,\n",
       "         'give': 8,\n",
       "         'military': 1,\n",
       "         'discount.': 1,\n",
       "         'Always': 2,\n",
       "         'Dos': 1,\n",
       "         'Gringos!': 1,\n",
       "         'Update.....went': 1,\n",
       "         'second': 3,\n",
       "         'amazing': 8,\n",
       "         'got': 18,\n",
       "         'apparently': 1,\n",
       "         'heard': 2,\n",
       "         'salt': 3,\n",
       "         'batter': 2,\n",
       "         'fish': 4,\n",
       "         'chewy.': 1,\n",
       "         'way': 10,\n",
       "         'finish': 2,\n",
       "         'great.': 6,\n",
       "         'included': 1,\n",
       "         'tastings': 1,\n",
       "         '2': 7,\n",
       "         'drinks,': 1,\n",
       "         'Jeff': 1,\n",
       "         'went': 10,\n",
       "         'beyond': 2,\n",
       "         'expected.': 1,\n",
       "         'Really,': 1,\n",
       "         'really': 31,\n",
       "         'rice,': 1,\n",
       "         'time.': 4,\n",
       "         'service': 41,\n",
       "         'meh.': 2,\n",
       "         'It': 27,\n",
       "         'took': 7,\n",
       "         '30': 5,\n",
       "         'min': 2,\n",
       "         'milkshake,': 1,\n",
       "         'nothing': 6,\n",
       "         'chocolate': 1,\n",
       "         'milk.': 1,\n",
       "         'guess': 3,\n",
       "         'known': 1,\n",
       "         'suck,': 2,\n",
       "         'Excalibur,': 1,\n",
       "         'use': 2,\n",
       "         'common': 1,\n",
       "         'sense.': 1,\n",
       "         'scallop': 1,\n",
       "         'dish': 5,\n",
       "         'quite': 8,\n",
       "         'appalling': 1,\n",
       "         'value': 1,\n",
       "         'well.': 6,\n",
       "         'times': 10,\n",
       "         'Very': 13,\n",
       "         'Bad': 2,\n",
       "         'Customer': 1,\n",
       "         '!': 2,\n",
       "         'sweet': 4,\n",
       "         'potato': 6,\n",
       "         'seasoned': 2,\n",
       "         'Today': 2,\n",
       "         \"I've\": 20,\n",
       "         'lunch': 7,\n",
       "         'buffet': 7,\n",
       "         'cheated': 1,\n",
       "         'wasting': 2,\n",
       "         'eating': 6,\n",
       "         'opportunity': 2,\n",
       "         'going': 18,\n",
       "         'Rice': 1,\n",
       "         'Company.': 1,\n",
       "         'Coming': 1,\n",
       "         'experiencing': 1,\n",
       "         'underwhelming': 1,\n",
       "         'relationship': 1,\n",
       "         'parties': 1,\n",
       "         \"can't\": 9,\n",
       "         'wait': 10,\n",
       "         'person': 2,\n",
       "         'ask': 4,\n",
       "         'break': 2,\n",
       "         'up.': 5,\n",
       "         'walked': 3,\n",
       "         'smelled': 1,\n",
       "         'old': 3,\n",
       "         'grease': 1,\n",
       "         'trap': 1,\n",
       "         'others': 1,\n",
       "         'eating.': 1,\n",
       "         'turkey': 1,\n",
       "         'roast': 2,\n",
       "         'beef': 4,\n",
       "         'bland.': 3,\n",
       "         'it!': 4,\n",
       "         'pan': 1,\n",
       "         'cakes': 1,\n",
       "         'everyone': 2,\n",
       "         'raving': 1,\n",
       "         'sugary': 2,\n",
       "         'disaster': 1,\n",
       "         'tailored': 1,\n",
       "         'palate': 1,\n",
       "         'six': 2,\n",
       "         'year': 2,\n",
       "         'old.': 1,\n",
       "         'love': 16,\n",
       "         'Pho': 2,\n",
       "         'spring': 1,\n",
       "         'rolls': 3,\n",
       "         'oh': 2,\n",
       "         'yummy': 3,\n",
       "         'try.': 1,\n",
       "         'poor': 5,\n",
       "         'meat': 7,\n",
       "         'ratio': 1,\n",
       "         'chicken': 14,\n",
       "         'tenders': 1,\n",
       "         'unsatisfying.': 1,\n",
       "         'All': 7,\n",
       "         'amazing!!!': 1,\n",
       "         'Omelets': 1,\n",
       "         'die': 2,\n",
       "         'for!': 1,\n",
       "         'Everything': 5,\n",
       "         'fresh': 9,\n",
       "         'delicious!': 7,\n",
       "         'In': 5,\n",
       "         'summary,': 1,\n",
       "         'largely': 1,\n",
       "         'disappointing': 2,\n",
       "         'dining': 8,\n",
       "         'experience.': 8,\n",
       "         'sexy': 1,\n",
       "         'party': 2,\n",
       "         'mouth,': 1,\n",
       "         'outrageously': 1,\n",
       "         'flirting': 1,\n",
       "         'hottest': 1,\n",
       "         'party.': 1,\n",
       "         'Never': 4,\n",
       "         'Rock': 1,\n",
       "         'Casino': 1,\n",
       "         'before,': 1,\n",
       "         'WILL': 2,\n",
       "         'NEVER': 3,\n",
       "         'EVER': 2,\n",
       "         'STEP': 1,\n",
       "         'FORWARD': 1,\n",
       "         'IN': 1,\n",
       "         'IT': 1,\n",
       "         'AGAIN!': 1,\n",
       "         'Best': 8,\n",
       "         'breakfast': 6,\n",
       "         'buffet!!!': 1,\n",
       "         'bye': 2,\n",
       "         'tip': 3,\n",
       "         'lady!': 1,\n",
       "         \"We'll\": 1,\n",
       "         'Will': 5,\n",
       "         'again!': 2,\n",
       "         'Food': 12,\n",
       "         'arrived': 1,\n",
       "         'quickly!': 1,\n",
       "         'side,': 2,\n",
       "         'cafe': 2,\n",
       "         'serves': 2,\n",
       "         'fantastic': 5,\n",
       "         'wife': 2,\n",
       "         'loves': 1,\n",
       "         'roasted': 2,\n",
       "         'garlic': 2,\n",
       "         'bone': 1,\n",
       "         'marrow,': 1,\n",
       "         'added': 2,\n",
       "         'extra': 2,\n",
       "         'meal': 6,\n",
       "         'another': 10,\n",
       "         'marrow': 1,\n",
       "         'go!': 1,\n",
       "         'waiter,': 1,\n",
       "         'helpful': 3,\n",
       "         'bloddy': 1,\n",
       "         \"mary's\": 1,\n",
       "         'coming.': 1,\n",
       "         'Buffet': 2,\n",
       "         'town,': 3,\n",
       "         'price': 4,\n",
       "         'cannot': 2,\n",
       "         'beat': 4,\n",
       "         'LOVED': 2,\n",
       "         'mussels': 1,\n",
       "         'wine': 3,\n",
       "         'reduction,': 1,\n",
       "         'tender,': 1,\n",
       "         'dishes': 8,\n",
       "         'better': 12,\n",
       "         'buffets': 1,\n",
       "         'to.': 1,\n",
       "         'Tigerlilly': 1,\n",
       "         'afternoon!': 1,\n",
       "         'delicious,': 1,\n",
       "         'bartender': 2,\n",
       "         'personable': 1,\n",
       "         'AND': 2,\n",
       "         'deal!': 1,\n",
       "         'ambience': 2,\n",
       "         'music': 3,\n",
       "         'playing.': 1,\n",
       "         'next': 10,\n",
       "         'trip': 4,\n",
       "         'out.': 4,\n",
       "         'Sooooo': 1,\n",
       "         'good!!': 1,\n",
       "         'REAL': 1,\n",
       "         'sushi': 8,\n",
       "         'lovers,': 1,\n",
       "         \"let's\": 1,\n",
       "         'honest': 1,\n",
       "         'Yama': 1,\n",
       "         '40min': 1,\n",
       "         'passed': 2,\n",
       "         'ordering': 1,\n",
       "         'arriving,': 1,\n",
       "         'busy.': 1,\n",
       "         'Thai': 4,\n",
       "         'visit.': 1,\n",
       "         'Nice,': 1,\n",
       "         'spicy': 7,\n",
       "         'tender.': 1,\n",
       "         'Good': 6,\n",
       "         'Check': 1,\n",
       "         'gross!': 1,\n",
       "         'atmosphere.': 3,\n",
       "         'Kind': 1,\n",
       "         'hard': 4,\n",
       "         'mess': 1,\n",
       "         'steak': 8,\n",
       "         'did.': 2,\n",
       "         'Although': 1,\n",
       "         'liked': 3,\n",
       "         'sound': 1,\n",
       "         'place,': 6,\n",
       "         'actual': 1,\n",
       "         'experience': 8,\n",
       "         'bit': 8,\n",
       "         'disappointing.': 1,\n",
       "         'know': 11,\n",
       "         'managed': 1,\n",
       "         'served': 6,\n",
       "         'blandest': 1,\n",
       "         'eaten': 3,\n",
       "         'preparing': 2,\n",
       "         'Indian': 2,\n",
       "         'cuisine.': 1,\n",
       "         'Worst': 4,\n",
       "         'boot,': 1,\n",
       "         'worries.': 1,\n",
       "         'fine': 3,\n",
       "         'waitress': 5,\n",
       "         'friendly.': 5,\n",
       "         'guys': 1,\n",
       "         'steaks,': 1,\n",
       "         'loving': 1,\n",
       "         'son': 1,\n",
       "         'best': 12,\n",
       "         'places': 5,\n",
       "         'said': 7,\n",
       "         \"he's\": 1,\n",
       "         'eaten.': 2,\n",
       "         'thought': 5,\n",
       "         'venture': 1,\n",
       "         'away': 4,\n",
       "         'sushi,': 3,\n",
       "         'hit': 5,\n",
       "         'spot': 4,\n",
       "         'night.': 3,\n",
       "         'Host': 1,\n",
       "         'staff': 13,\n",
       "         'were,': 1,\n",
       "         'lack': 1,\n",
       "         'word,': 1,\n",
       "         'BITCHES!': 1,\n",
       "         'Bland...': 1,\n",
       "         'liking': 1,\n",
       "         'number': 1,\n",
       "         'reasons': 1,\n",
       "         'waste': 4,\n",
       "         'reviewing..': 1,\n",
       "         \"I'll\": 7,\n",
       "         'leave': 3,\n",
       "         'that...': 1,\n",
       "         'Phenomenal': 1,\n",
       "         'ambiance.': 2,\n",
       "         'return.': 3,\n",
       "         'Definitely': 3,\n",
       "         'venturing': 1,\n",
       "         'strip': 1,\n",
       "         'pork': 3,\n",
       "         'belly,': 1,\n",
       "         'return': 2,\n",
       "         \"I'm\": 20,\n",
       "         'overpriced': 2,\n",
       "         'mediocre': 4,\n",
       "         'Penne': 1,\n",
       "         'vodka': 1,\n",
       "         'excellent!': 1,\n",
       "         'including': 1,\n",
       "         'massive': 1,\n",
       "         'meatloaf': 1,\n",
       "         'sandwich,': 2,\n",
       "         'crispy': 1,\n",
       "         'wrap,': 1,\n",
       "         'delish': 2,\n",
       "         'tuna': 2,\n",
       "         'melt': 3,\n",
       "         'burgers.': 1,\n",
       "         'management': 3,\n",
       "         'rude.': 2,\n",
       "         'Delicious': 2,\n",
       "         'NYC': 1,\n",
       "         'bagels,': 1,\n",
       "         'selections': 2,\n",
       "         'cream': 4,\n",
       "         'cheese,': 1,\n",
       "         'real': 3,\n",
       "         'Lox': 1,\n",
       "         'capers': 1,\n",
       "         'even.': 1,\n",
       "         'Subway,': 1,\n",
       "         'fact': 4,\n",
       "         'come': 10,\n",
       "         'Subway': 2,\n",
       "         'meet': 1,\n",
       "         'expectations.': 1,\n",
       "         'seriously': 3,\n",
       "         'solid': 1,\n",
       "         'here.': 12,\n",
       "         'bars': 2,\n",
       "         'extremely': 4,\n",
       "         'rude': 4,\n",
       "         'really,': 2,\n",
       "         'many': 8,\n",
       "         'restaurants': 3,\n",
       "         'dine': 2,\n",
       "         'weekend': 1,\n",
       "         'drink': 4,\n",
       "         'empty': 2,\n",
       "         'suggestions.': 1,\n",
       "         \"Don't\": 3,\n",
       "         'it!!!!': 1,\n",
       "         'rarely': 2,\n",
       "         'checked': 3,\n",
       "         'us.': 4,\n",
       "         'ate': 3,\n",
       "         'disappointed': 7,\n",
       "         'And': 8,\n",
       "         'curry': 2,\n",
       "         'bamboo': 1,\n",
       "         'shoots': 1,\n",
       "         'me.': 3,\n",
       "         'Nice': 3,\n",
       "         'blanket': 1,\n",
       "         'moz': 1,\n",
       "         'top': 1,\n",
       "         'done': 4,\n",
       "         'cover': 1,\n",
       "         'subpar': 1,\n",
       "         'bathrooms': 2,\n",
       "         'clean': 5,\n",
       "         'well': 7,\n",
       "         'decorated.': 1,\n",
       "         'always': 12,\n",
       "         'changing,': 1,\n",
       "         '&': 12,\n",
       "         'slow.': 4,\n",
       "         ',': 2,\n",
       "         'considering': 4,\n",
       "         '3': 3,\n",
       "         'servers': 4,\n",
       "         'coming': 8,\n",
       "         'pace.': 2,\n",
       "         'thumbs': 3,\n",
       "         'watched': 3,\n",
       "         'pay': 4,\n",
       "         'lot': 5,\n",
       "         'attention': 1,\n",
       "         'ignore': 1,\n",
       "         'fiancé': 1,\n",
       "         'middle': 1,\n",
       "         'day': 6,\n",
       "         'greeted': 2,\n",
       "         'seated': 3,\n",
       "         'away.': 1,\n",
       "         'Mandalay': 1,\n",
       "         'Bay.': 1,\n",
       "         'waited': 6,\n",
       "         'forty': 1,\n",
       "         'five': 1,\n",
       "         'minutes': 14,\n",
       "         'vain.': 1,\n",
       "         'Crostini': 1,\n",
       "         'stale.': 1,\n",
       "         'Some': 2,\n",
       "         'highlights': 1,\n",
       "         ':': 2,\n",
       "         'nigiri': 1,\n",
       "         'here!': 5,\n",
       "         'joint': 1,\n",
       "         'clean.': 2,\n",
       "         'different': 3,\n",
       "         'cut': 2,\n",
       "         'piece': 4,\n",
       "         'flavored.': 1,\n",
       "         'Voodoo': 1,\n",
       "         \"I'd\": 5,\n",
       "         'excellent': 8,\n",
       "         'since': 7,\n",
       "         'gluten': 1,\n",
       "         'free': 1,\n",
       "         'several': 3,\n",
       "         'years': 3,\n",
       "         'ago.': 1,\n",
       "         'Unfortunately,': 3,\n",
       "         'must': 4,\n",
       "         'bakery': 2,\n",
       "         'leftover': 1,\n",
       "         'everything': 4,\n",
       "         'STALE.': 1,\n",
       "         'today': 2,\n",
       "         'relocated': 1,\n",
       "         'impressed.': 2,\n",
       "         'immediately.': 1,\n",
       "         'diverse,': 1,\n",
       "         'reasonably': 1,\n",
       "         'priced.': 1,\n",
       "         'Avoid': 1,\n",
       "         'cost!': 1,\n",
       "         'Restaurant': 1,\n",
       "         'full': 5,\n",
       "         'wait.': 2,\n",
       "         'DELICIOUS!!': 1,\n",
       "         'hands-down': 1,\n",
       "         'Phoenix': 3,\n",
       "         'metro': 1,\n",
       "         'area.': 2,\n",
       "         'looking': 2,\n",
       "         'food...': 1,\n",
       "         'treated': 3,\n",
       "         'bad.': 5,\n",
       "         'Bacon': 1,\n",
       "         'hella': 1,\n",
       "         'salty.': 1,\n",
       "         'spinach': 1,\n",
       "         'avocado': 1,\n",
       "         'salad,': 2,\n",
       "         'ingredients': 1,\n",
       "         'sad': 2,\n",
       "         'literally': 3,\n",
       "         'zero': 5,\n",
       "         'taste.': 4,\n",
       "         'used': 3,\n",
       "         'be,': 1,\n",
       "         'menus': 1,\n",
       "         'handed': 1,\n",
       "         'ladies': 2,\n",
       "         'prices': 4,\n",
       "         'listed.': 1,\n",
       "         'waitresses': 1,\n",
       "         'Lordy,': 1,\n",
       "         'Khao': 1,\n",
       "         'Soi': 1,\n",
       "         'missed': 1,\n",
       "         'lovers!': 1,\n",
       "         'terrific': 1,\n",
       "         'thrilled': 1,\n",
       "         'accommodations': 1,\n",
       "         'vegetarian': 2,\n",
       "         'daughter.': 1,\n",
       "         'Perhaps': 1,\n",
       "         'caught': 1,\n",
       "         'night': 9,\n",
       "         'judging': 1,\n",
       "         'reviews,': 1,\n",
       "         'inspired': 1,\n",
       "         'leaves': 1,\n",
       "         'desired.': 1,\n",
       "         'atmosphere': 5,\n",
       "         'modern': 1,\n",
       "         'hip,': 1,\n",
       "         'maintaining': 1,\n",
       "         'touch': 1,\n",
       "         'coziness.': 1,\n",
       "         'weekly': 1,\n",
       "         'haunt,': 1,\n",
       "         'while.': 3,\n",
       "         'sat': 4,\n",
       "         '20': 3,\n",
       "         'asking': 1,\n",
       "         'take': 8,\n",
       "         'order.': 1,\n",
       "         'flavor': 4,\n",
       "         'bland,': 1,\n",
       "         'overcooked': 1,\n",
       "         'charcoal': 2,\n",
       "         'flavor.': 6,\n",
       "         'decided': 2,\n",
       "         'send': 1,\n",
       "         'looked': 2,\n",
       "         'verge': 1,\n",
       "         'heart': 2,\n",
       "         'attack.': 1,\n",
       "         'dressed': 1,\n",
       "         'rudely!': 1,\n",
       "         'probably': 8,\n",
       "         'dirt.': 2,\n",
       "         'Love': 2,\n",
       "         'hits': 1,\n",
       "         'something': 4,\n",
       "         'healthy': 3,\n",
       "         'lacking': 1,\n",
       "         'quantity': 1,\n",
       "         'Lemon': 1,\n",
       "         'raspberry': 1,\n",
       "         'ice': 5,\n",
       "         'cocktail': 1,\n",
       "         'incredible.': 2,\n",
       "         'sucked,': 1,\n",
       "         'expected': 2,\n",
       "         'sucked': 1,\n",
       "         'imagined.': 1,\n",
       "         'Interesting': 1,\n",
       "         'decor.': 1,\n",
       "         'What': 7,\n",
       "         'crepe': 1,\n",
       "         'station.': 1,\n",
       "         'hot': 4,\n",
       "         'bread': 5,\n",
       "         'butter,': 1,\n",
       "         'home': 4,\n",
       "         'chips': 7,\n",
       "         'bacon': 4,\n",
       "         'bits': 1,\n",
       "         'top....very': 1,\n",
       "         'original': 1,\n",
       "         'watch': 2,\n",
       "         'delicious': 4,\n",
       "         'food!)': 1,\n",
       "         'Both': 4,\n",
       "         'egg': 2,\n",
       "         'fantastic.': 4,\n",
       "         'When': 6,\n",
       "         'order': 9,\n",
       "         'arrived,': 1,\n",
       "         'gyros': 1,\n",
       "         'missing.': 1,\n",
       "         'wings,': 1,\n",
       "         'feeling': 2,\n",
       "         'satisfied.': 1,\n",
       "         \"Joey's\": 1,\n",
       "         'voted': 1,\n",
       "         'dog': 2,\n",
       "         'Valley': 2,\n",
       "         'readers': 1,\n",
       "         'Magazine.': 1,\n",
       "         'bowl': 2,\n",
       "         'Pho!': 1,\n",
       "         'live': 4,\n",
       "         'Fridays': 1,\n",
       "         'blows.': 1,\n",
       "         'insulted': 2,\n",
       "         'felt': 8,\n",
       "         'disrespected.': 1,\n",
       "         'drive.': 1,\n",
       "         'things': 3,\n",
       "         'exceeding': 1,\n",
       "         'hope': 3,\n",
       "         'dreamed': 1,\n",
       "         'of.': 1,\n",
       "         'serivce!': 1,\n",
       "         'warm': 5,\n",
       "         'help.': 1,\n",
       "         'brunch': 2,\n",
       "         'spot.': 4,\n",
       "         'inviting.': 1,\n",
       "         'lived': 1,\n",
       "         '1979': 1,\n",
       "         '(and': 1,\n",
       "         'last)': 1,\n",
       "         'stepped': 1,\n",
       "         'foot': 1,\n",
       "         'WORST': 1,\n",
       "         'EXPERIENCE': 1,\n",
       "         'EVER.': 1,\n",
       "         'Must': 1,\n",
       "         'mixed': 1,\n",
       "         'mushrooms,': 1,\n",
       "         'yukon': 1,\n",
       "         'gold': 1,\n",
       "         'puree,': 1,\n",
       "         'white': 3,\n",
       "         'corn': 1,\n",
       "         'beateous.': 1,\n",
       "         'bug': 2,\n",
       "         'showed': 1,\n",
       "         'given': 2,\n",
       "         'sure,': 1,\n",
       "         'climbing': 1,\n",
       "         'kitchen.': 1,\n",
       "         'For': 5,\n",
       "         'minutes,': 2,\n",
       "         \"we're\": 2,\n",
       "         'waiting': 4,\n",
       "         'soon.': 4,\n",
       "         'friend': 2,\n",
       "         'tartar.': 1,\n",
       "         \"Won't\": 2,\n",
       "         'Extremely': 1,\n",
       "         'Tasty!': 1,\n",
       "         'though!': 2,\n",
       "         'Soggy': 1,\n",
       "         'Jamaican': 1,\n",
       "         'mojitos': 1,\n",
       "         'Which': 1,\n",
       "         'small': 5,\n",
       "         'price.': 2,\n",
       "         'rich': 1,\n",
       "         'accordingly.': 1,\n",
       "         'shower': 1,\n",
       "         'area': 2,\n",
       "         'outside': 4,\n",
       "         'rinse,': 1,\n",
       "         'shower,': 1,\n",
       "         'unless': 3,\n",
       "         'mind': 2,\n",
       "         'nude': 1,\n",
       "         'see!': 1,\n",
       "         'lacking.': 2,\n",
       "         'Lobster': 3,\n",
       "         'Bisque,': 1,\n",
       "         'Bussell': 1,\n",
       "         'Sprouts,': 1,\n",
       "         'Risotto,': 1,\n",
       "         'Filet': 2,\n",
       "         'ALL': 1,\n",
       "         'needed': 2,\n",
       "         'pepper..and': 1,\n",
       "         'course': 3,\n",
       "         'none': 1,\n",
       "         'tables.': 1,\n",
       "         'Hopefully': 1,\n",
       "         'bodes': 1,\n",
       "         'business': 4,\n",
       "         'someone': 4,\n",
       "         'cook': 2,\n",
       "         'in.': 3,\n",
       "         'either': 2,\n",
       "         'cold,': 2,\n",
       "         'wrapped': 1,\n",
       "         'dates.': 1,\n",
       "         'unbelievable': 1,\n",
       "         'BARGAIN!': 1,\n",
       "         'folks': 2,\n",
       "         'Otto': 1,\n",
       "         'make': 8,\n",
       "         'welcome': 1,\n",
       "         'special.': 3,\n",
       "         'As': 6,\n",
       "         '\"mains,\"': 1,\n",
       "         'uninspired.': 1,\n",
       "         'pho': 1,\n",
       "         'amazing!!': 1,\n",
       "         'must-stop': 1,\n",
       "         'whenever': 1,\n",
       "         'town': 3,\n",
       "         'you,': 1,\n",
       "         'dealing': 2,\n",
       "         ...})"
      ]
     },
     "execution_count": 30,
     "metadata": {},
     "output_type": "execute_result"
    }
   ],
   "source": [
    "word_freq"
   ]
  },
  {
   "cell_type": "code",
   "execution_count": 31,
   "id": "d5a0ed83",
   "metadata": {},
   "outputs": [],
   "source": [
    "word_freq_df = pd.DataFrame.from_dict(word_freq, orient='index', columns=['count']).reset_index()\n"
   ]
  },
  {
   "cell_type": "code",
   "execution_count": 32,
   "id": "1a1f032a",
   "metadata": {},
   "outputs": [],
   "source": [
    "word_freq_df = word_freq_df.rename(columns={'index': 'word'})\n"
   ]
  },
  {
   "cell_type": "code",
   "execution_count": 33,
   "id": "8176af7e",
   "metadata": {},
   "outputs": [],
   "source": [
    "word_freq_df = word_freq_df.sort_values(by='count', ascending=False)\n"
   ]
  },
  {
   "cell_type": "code",
   "execution_count": 34,
   "id": "3637c19c",
   "metadata": {},
   "outputs": [
    {
     "data": {
      "text/html": [
       "<div>\n",
       "<style scoped>\n",
       "    .dataframe tbody tr th:only-of-type {\n",
       "        vertical-align: middle;\n",
       "    }\n",
       "\n",
       "    .dataframe tbody tr th {\n",
       "        vertical-align: top;\n",
       "    }\n",
       "\n",
       "    .dataframe thead th {\n",
       "        text-align: right;\n",
       "    }\n",
       "</style>\n",
       "<table border=\"1\" class=\"dataframe\">\n",
       "  <thead>\n",
       "    <tr style=\"text-align: right;\">\n",
       "      <th></th>\n",
       "      <th>word</th>\n",
       "      <th>count</th>\n",
       "    </tr>\n",
       "  </thead>\n",
       "  <tbody>\n",
       "    <tr>\n",
       "      <th>25</th>\n",
       "      <td>I</td>\n",
       "      <td>294</td>\n",
       "    </tr>\n",
       "    <tr>\n",
       "      <th>19</th>\n",
       "      <td>The</td>\n",
       "      <td>177</td>\n",
       "    </tr>\n",
       "    <tr>\n",
       "      <th>126</th>\n",
       "      <td>food</td>\n",
       "      <td>80</td>\n",
       "    </tr>\n",
       "    <tr>\n",
       "      <th>85</th>\n",
       "      <td>place</td>\n",
       "      <td>76</td>\n",
       "    </tr>\n",
       "    <tr>\n",
       "      <th>155</th>\n",
       "      <td>good</td>\n",
       "      <td>56</td>\n",
       "    </tr>\n",
       "    <tr>\n",
       "      <th>...</th>\n",
       "      <td>...</td>\n",
       "      <td>...</td>\n",
       "    </tr>\n",
       "    <tr>\n",
       "      <th>1321</th>\n",
       "      <td>gross.</td>\n",
       "      <td>1</td>\n",
       "    </tr>\n",
       "    <tr>\n",
       "      <th>1318</th>\n",
       "      <td>unbelievably</td>\n",
       "      <td>1</td>\n",
       "    </tr>\n",
       "    <tr>\n",
       "      <th>1317</th>\n",
       "      <td>truly</td>\n",
       "      <td>1</td>\n",
       "    </tr>\n",
       "    <tr>\n",
       "      <th>1316</th>\n",
       "      <td>coupons.</td>\n",
       "      <td>1</td>\n",
       "    </tr>\n",
       "    <tr>\n",
       "      <th>2838</th>\n",
       "      <td>check.</td>\n",
       "      <td>1</td>\n",
       "    </tr>\n",
       "  </tbody>\n",
       "</table>\n",
       "<p>2839 rows × 2 columns</p>\n",
       "</div>"
      ],
      "text/plain": [
       "              word  count\n",
       "25               I    294\n",
       "19             The    177\n",
       "126           food     80\n",
       "85           place     76\n",
       "155           good     56\n",
       "...            ...    ...\n",
       "1321        gross.      1\n",
       "1318  unbelievably      1\n",
       "1317         truly      1\n",
       "1316      coupons.      1\n",
       "2838        check.      1\n",
       "\n",
       "[2839 rows x 2 columns]"
      ]
     },
     "execution_count": 34,
     "metadata": {},
     "output_type": "execute_result"
    }
   ],
   "source": [
    "word_freq_df"
   ]
  },
  {
   "cell_type": "code",
   "execution_count": 35,
   "id": "362ea974",
   "metadata": {},
   "outputs": [
    {
     "data": {
      "text/plain": [
       "<AxesSubplot:xlabel='word', ylabel='count'>"
      ]
     },
     "execution_count": 35,
     "metadata": {},
     "output_type": "execute_result"
    },
    {
     "data": {
      "image/png": "[encoded data removed]",
      "text/plain": [
       "<Figure size 432x288 with 1 Axes>"
      ]
     },
     "metadata": {
      "needs_background": "light"
     },
     "output_type": "display_data"
    }
   ],
   "source": [
    "sns.barplot(x=word_freq_df['word'][:10],y=word_freq_df['count'][:10])"
   ]
  },
  {
   "cell_type": "code",
   "execution_count": 36,
   "id": "32a79fcb",
   "metadata": {},
   "outputs": [
    {
     "data": {
      "text/html": [
       "<div>\n",
       "<style scoped>\n",
       "    .dataframe tbody tr th:only-of-type {\n",
       "        vertical-align: middle;\n",
       "    }\n",
       "\n",
       "    .dataframe tbody tr th {\n",
       "        vertical-align: top;\n",
       "    }\n",
       "\n",
       "    .dataframe thead th {\n",
       "        text-align: right;\n",
       "    }\n",
       "</style>\n",
       "<table border=\"1\" class=\"dataframe\">\n",
       "  <thead>\n",
       "    <tr style=\"text-align: right;\">\n",
       "      <th></th>\n",
       "      <th>Review</th>\n",
       "      <th>Liked</th>\n",
       "    </tr>\n",
       "  </thead>\n",
       "  <tbody>\n",
       "    <tr>\n",
       "      <th>0</th>\n",
       "      <td>Wow... Loved place.</td>\n",
       "      <td>1</td>\n",
       "    </tr>\n",
       "    <tr>\n",
       "      <th>1</th>\n",
       "      <td>Crust good.</td>\n",
       "      <td>0</td>\n",
       "    </tr>\n",
       "    <tr>\n",
       "      <th>2</th>\n",
       "      <td>Not tasty texture nasty.</td>\n",
       "      <td>0</td>\n",
       "    </tr>\n",
       "    <tr>\n",
       "      <th>3</th>\n",
       "      <td>Stopped late May bank holiday Rick Steve recom...</td>\n",
       "      <td>1</td>\n",
       "    </tr>\n",
       "    <tr>\n",
       "      <th>4</th>\n",
       "      <td>The selection menu great prices.</td>\n",
       "      <td>1</td>\n",
       "    </tr>\n",
       "    <tr>\n",
       "      <th>...</th>\n",
       "      <td>...</td>\n",
       "      <td>...</td>\n",
       "    </tr>\n",
       "    <tr>\n",
       "      <th>995</th>\n",
       "      <td>I think food flavor texture lacking.</td>\n",
       "      <td>0</td>\n",
       "    </tr>\n",
       "    <tr>\n",
       "      <th>996</th>\n",
       "      <td>Appetite instantly gone.</td>\n",
       "      <td>0</td>\n",
       "    </tr>\n",
       "    <tr>\n",
       "      <th>997</th>\n",
       "      <td>Overall I impressed would go back.</td>\n",
       "      <td>0</td>\n",
       "    </tr>\n",
       "    <tr>\n",
       "      <th>998</th>\n",
       "      <td>The whole experience underwhelming, I think we...</td>\n",
       "      <td>0</td>\n",
       "    </tr>\n",
       "    <tr>\n",
       "      <th>999</th>\n",
       "      <td>Then, I wasted enough life there, poured salt ...</td>\n",
       "      <td>0</td>\n",
       "    </tr>\n",
       "  </tbody>\n",
       "</table>\n",
       "<p>1000 rows × 2 columns</p>\n",
       "</div>"
      ],
      "text/plain": [
       "                                                Review  Liked\n",
       "0                                  Wow... Loved place.      1\n",
       "1                                          Crust good.      0\n",
       "2                             Not tasty texture nasty.      0\n",
       "3    Stopped late May bank holiday Rick Steve recom...      1\n",
       "4                     The selection menu great prices.      1\n",
       "..                                                 ...    ...\n",
       "995               I think food flavor texture lacking.      0\n",
       "996                           Appetite instantly gone.      0\n",
       "997                 Overall I impressed would go back.      0\n",
       "998  The whole experience underwhelming, I think we...      0\n",
       "999  Then, I wasted enough life there, poured salt ...      0\n",
       "\n",
       "[1000 rows x 2 columns]"
      ]
     },
     "execution_count": 36,
     "metadata": {},
     "output_type": "execute_result"
    }
   ],
   "source": [
    "df"
   ]
  },
  {
   "cell_type": "code",
   "execution_count": 37,
   "id": "6b49d32b",
   "metadata": {},
   "outputs": [],
   "source": [
    "X=df['Review']"
   ]
  },
  {
   "cell_type": "code",
   "execution_count": 38,
   "id": "2c739b24",
   "metadata": {},
   "outputs": [],
   "source": [
    "y=df['Liked']"
   ]
  },
  {
   "cell_type": "code",
   "execution_count": 39,
   "id": "8c548d9d",
   "metadata": {},
   "outputs": [
    {
     "data": {
      "text/plain": [
       "0                                    Wow... Loved place.\n",
       "1                                            Crust good.\n",
       "2                               Not tasty texture nasty.\n",
       "3      Stopped late May bank holiday Rick Steve recom...\n",
       "4                       The selection menu great prices.\n",
       "                             ...                        \n",
       "995                 I think food flavor texture lacking.\n",
       "996                             Appetite instantly gone.\n",
       "997                   Overall I impressed would go back.\n",
       "998    The whole experience underwhelming, I think we...\n",
       "999    Then, I wasted enough life there, poured salt ...\n",
       "Name: Review, Length: 1000, dtype: object"
      ]
     },
     "execution_count": 39,
     "metadata": {},
     "output_type": "execute_result"
    }
   ],
   "source": [
    "X"
   ]
  },
  {
   "cell_type": "code",
   "execution_count": 40,
   "id": "1f4ae835",
   "metadata": {},
   "outputs": [
    {
     "data": {
      "text/plain": [
       "0      1\n",
       "1      0\n",
       "2      0\n",
       "3      1\n",
       "4      1\n",
       "      ..\n",
       "995    0\n",
       "996    0\n",
       "997    0\n",
       "998    0\n",
       "999    0\n",
       "Name: Liked, Length: 1000, dtype: int64"
      ]
     },
     "execution_count": 40,
     "metadata": {},
     "output_type": "execute_result"
    }
   ],
   "source": [
    "y"
   ]
  },
  {
   "cell_type": "code",
   "execution_count": 41,
   "id": "2c1edfb9",
   "metadata": {},
   "outputs": [],
   "source": [
    "X_train, X_test, y_train, y_test = train_test_split(X, y, test_size=0.33, random_state=42)\n"
   ]
  },
  {
   "cell_type": "code",
   "execution_count": 42,
   "id": "aa03b077",
   "metadata": {},
   "outputs": [],
   "source": [
    "tdidf_Vectorizer=TfidfVectorizer(max_features=30000)\n"
   ]
  },
  {
   "cell_type": "code",
   "execution_count": 43,
   "id": "3ea68379",
   "metadata": {},
   "outputs": [
    {
     "data": {
      "text/plain": [
       "TfidfVectorizer(max_features=30000)"
      ]
     },
     "execution_count": 43,
     "metadata": {},
     "output_type": "execute_result"
    }
   ],
   "source": [
    "tdidf_Vectorizer"
   ]
  },
  {
   "cell_type": "code",
   "execution_count": 44,
   "id": "bf93b239",
   "metadata": {},
   "outputs": [],
   "source": [
    "# Fiting and transforming the training data\n"
   ]
  },
  {
   "cell_type": "code",
   "execution_count": 45,
   "id": "16a68b7a",
   "metadata": {},
   "outputs": [],
   "source": [
    "X_train_tfidf=tdidf_Vectorizer.fit_transform(X_train)"
   ]
  },
  {
   "cell_type": "code",
   "execution_count": 46,
   "id": "e21408c0",
   "metadata": {},
   "outputs": [
    {
     "data": {
      "text/plain": [
       "<670x1600 sparse matrix of type '<class 'numpy.float64'>'\n",
       "\twith 4239 stored elements in Compressed Sparse Row format>"
      ]
     },
     "execution_count": 46,
     "metadata": {},
     "output_type": "execute_result"
    }
   ],
   "source": [
    "X_train_tfidf"
   ]
  },
  {
   "cell_type": "code",
   "execution_count": 47,
   "id": "2a3f8ea1",
   "metadata": {},
   "outputs": [],
   "source": [
    "# Transforming the testing data\n"
   ]
  },
  {
   "cell_type": "code",
   "execution_count": 48,
   "id": "c0c6cde8",
   "metadata": {},
   "outputs": [],
   "source": [
    "X_test_tfidf=tdidf_Vectorizer.transform(X_test)"
   ]
  },
  {
   "cell_type": "code",
   "execution_count": 49,
   "id": "a9237f51",
   "metadata": {},
   "outputs": [
    {
     "data": {
      "text/plain": [
       "<330x1600 sparse matrix of type '<class 'numpy.float64'>'\n",
       "\twith 1547 stored elements in Compressed Sparse Row format>"
      ]
     },
     "execution_count": 49,
     "metadata": {},
     "output_type": "execute_result"
    }
   ],
   "source": [
    "X_test_tfidf"
   ]
  },
  {
   "cell_type": "markdown",
   "id": "f4732e84",
   "metadata": {},
   "source": [
    "# RandomForestClassifier"
   ]
  },
  {
   "cell_type": "code",
   "execution_count": 50,
   "id": "b11ae2e0",
   "metadata": {},
   "outputs": [],
   "source": [
    "rfc=RandomForestClassifier()\n"
   ]
  },
  {
   "cell_type": "code",
   "execution_count": 51,
   "id": "2c84fcb0",
   "metadata": {},
   "outputs": [
    {
     "data": {
      "text/plain": [
       "RandomForestClassifier()"
      ]
     },
     "execution_count": 51,
     "metadata": {},
     "output_type": "execute_result"
    }
   ],
   "source": [
    "rfc.fit(X_train_tfidf,y_train)"
   ]
  },
  {
   "cell_type": "code",
   "execution_count": 52,
   "id": "eba905d4",
   "metadata": {},
   "outputs": [],
   "source": [
    "y_pred=rfc.predict(X_train_tfidf)\n"
   ]
  },
  {
   "cell_type": "code",
   "execution_count": 53,
   "id": "9f90cf31",
   "metadata": {},
   "outputs": [
    {
     "data": {
      "text/plain": [
       "1.0"
      ]
     },
     "execution_count": 53,
     "metadata": {},
     "output_type": "execute_result"
    }
   ],
   "source": [
    "accuracy_score(y_train,y_pred)"
   ]
  },
  {
   "cell_type": "code",
   "execution_count": 54,
   "id": "66ee6b8d",
   "metadata": {},
   "outputs": [],
   "source": [
    "y_pred=rfc.predict(X_test_tfidf)\n"
   ]
  },
  {
   "cell_type": "code",
   "execution_count": 55,
   "id": "24949b7a",
   "metadata": {},
   "outputs": [
    {
     "data": {
      "text/plain": [
       "0.7363636363636363"
      ]
     },
     "execution_count": 55,
     "metadata": {},
     "output_type": "execute_result"
    }
   ],
   "source": [
    "accuracy_score(y_test,y_pred)"
   ]
  },
  {
   "cell_type": "code",
   "execution_count": 56,
   "id": "70b2a0fa",
   "metadata": {},
   "outputs": [],
   "source": [
    "cm=confusion_matrix(y_test,y_pred)"
   ]
  },
  {
   "cell_type": "code",
   "execution_count": 57,
   "id": "8717becd",
   "metadata": {},
   "outputs": [
    {
     "data": {
      "text/plain": [
       "<AxesSubplot:>"
      ]
     },
     "execution_count": 57,
     "metadata": {},
     "output_type": "execute_result"
    },
    {
     "data": {
      "image/png": "[encoded data removed]",
      "text/plain": [
       "<Figure size 432x288 with 2 Axes>"
      ]
     },
     "metadata": {
      "needs_background": "light"
     },
     "output_type": "display_data"
    }
   ],
   "source": [
    "sns.heatmap(data=cm,fmt='d',annot=True)"
   ]
  },
  {
   "cell_type": "code",
   "execution_count": 58,
   "id": "14fbaed0",
   "metadata": {},
   "outputs": [
    {
     "name": "stdout",
     "output_type": "stream",
     "text": [
      "              precision    recall  f1-score   support\n",
      "\n",
      "           0       0.73      0.79      0.76       173\n",
      "           1       0.74      0.68      0.71       157\n",
      "\n",
      "    accuracy                           0.74       330\n",
      "   macro avg       0.74      0.73      0.73       330\n",
      "weighted avg       0.74      0.74      0.74       330\n",
      "\n"
     ]
    }
   ],
   "source": [
    "print(classification_report(y_test,y_pred))"
   ]
  },
  {
   "cell_type": "code",
   "execution_count": 59,
   "id": "defb0759",
   "metadata": {},
   "outputs": [],
   "source": [
    "def predict_emotion(ele):\n",
    "    ele=[ele]\n",
    "    input_tfidf=tdidf_Vectorizer.transform(ele)\n",
    "    predicted_label=rfc.predict(input_tfidf)\n",
    "    return predicted_label"
   ]
  },
  {
   "cell_type": "code",
   "execution_count": 60,
   "id": "ea8196f2",
   "metadata": {},
   "outputs": [
    {
     "name": "stdout",
     "output_type": "stream",
     "text": [
      "Enter a commentlove the food\n"
     ]
    }
   ],
   "source": [
    "user_input=input(\"Enter a comment\")\n"
   ]
  },
  {
   "cell_type": "code",
   "execution_count": 61,
   "id": "328915f3",
   "metadata": {},
   "outputs": [],
   "source": [
    "emotion=predict_emotion(user_input)\n"
   ]
  },
  {
   "cell_type": "code",
   "execution_count": 62,
   "id": "b71e5046",
   "metadata": {},
   "outputs": [
    {
     "name": "stdout",
     "output_type": "stream",
     "text": [
      "[1]\n"
     ]
    }
   ],
   "source": [
    "print(emotion)"
   ]
  },
  {
   "cell_type": "markdown",
   "id": "08db668f",
   "metadata": {},
   "source": [
    "# LogisticRegression"
   ]
  },
  {
   "cell_type": "code",
   "execution_count": 63,
   "id": "04dac94f",
   "metadata": {},
   "outputs": [],
   "source": [
    "lr=LogisticRegression()\n",
    "\n"
   ]
  },
  {
   "cell_type": "code",
   "execution_count": 64,
   "id": "ef28f92c",
   "metadata": {},
   "outputs": [
    {
     "data": {
      "text/plain": [
       "LogisticRegression()"
      ]
     },
     "execution_count": 64,
     "metadata": {},
     "output_type": "execute_result"
    }
   ],
   "source": [
    "lr.fit(X_train_tfidf,y_train)"
   ]
  },
  {
   "cell_type": "code",
   "execution_count": 65,
   "id": "a55d4d42",
   "metadata": {},
   "outputs": [],
   "source": [
    "y_pred=lr.predict(X_train_tfidf)\n"
   ]
  },
  {
   "cell_type": "code",
   "execution_count": 66,
   "id": "1f27430e",
   "metadata": {},
   "outputs": [
    {
     "data": {
      "text/plain": [
       "0.9492537313432836"
      ]
     },
     "execution_count": 66,
     "metadata": {},
     "output_type": "execute_result"
    }
   ],
   "source": [
    "accuracy_score(y_train,y_pred)"
   ]
  },
  {
   "cell_type": "code",
   "execution_count": 67,
   "id": "46cd0954",
   "metadata": {},
   "outputs": [],
   "source": [
    "y_pred=lr.predict(X_test_tfidf)\n"
   ]
  },
  {
   "cell_type": "code",
   "execution_count": 68,
   "id": "e52fa8f1",
   "metadata": {},
   "outputs": [
    {
     "data": {
      "text/plain": [
       "0.7818181818181819"
      ]
     },
     "execution_count": 68,
     "metadata": {},
     "output_type": "execute_result"
    }
   ],
   "source": [
    "accuracy_score(y_test,y_pred)"
   ]
  },
  {
   "cell_type": "code",
   "execution_count": 69,
   "id": "c07e5bdc",
   "metadata": {},
   "outputs": [],
   "source": [
    "cm=confusion_matrix(y_test,y_pred)"
   ]
  },
  {
   "cell_type": "code",
   "execution_count": 70,
   "id": "22ef05d9",
   "metadata": {},
   "outputs": [
    {
     "data": {
      "text/plain": [
       "<AxesSubplot:>"
      ]
     },
     "execution_count": 70,
     "metadata": {},
     "output_type": "execute_result"
    },
    {
     "data": {
      "image/png": "[encoded data removed]",
      "text/plain": [
       "<Figure size 432x288 with 2 Axes>"
      ]
     },
     "metadata": {
      "needs_background": "light"
     },
     "output_type": "display_data"
    }
   ],
   "source": [
    "sns.heatmap(data=cm,fmt='d',annot=True)"
   ]
  },
  {
   "cell_type": "code",
   "execution_count": 71,
   "id": "8af0ae04",
   "metadata": {},
   "outputs": [
    {
     "name": "stdout",
     "output_type": "stream",
     "text": [
      "              precision    recall  f1-score   support\n",
      "\n",
      "           0       0.80      0.79      0.79       173\n",
      "           1       0.77      0.78      0.77       157\n",
      "\n",
      "    accuracy                           0.78       330\n",
      "   macro avg       0.78      0.78      0.78       330\n",
      "weighted avg       0.78      0.78      0.78       330\n",
      "\n"
     ]
    }
   ],
   "source": [
    "print(classification_report(y_test,y_pred))"
   ]
  },
  {
   "cell_type": "code",
   "execution_count": null,
   "id": "1ef32c12",
   "metadata": {},
   "outputs": [],
   "source": []
  },
  {
   "cell_type": "code",
   "execution_count": 72,
   "id": "a595fcbb",
   "metadata": {},
   "outputs": [],
   "source": [
    "def predict_emotion(ele):\n",
    "    ele=[ele]\n",
    "    input_tfidf=tdidf_Vectorizer.transform(ele)\n",
    "    predicted_label=lr.predict(input_tfidf)\n",
    "    return predicted_label"
   ]
  },
  {
   "cell_type": "code",
   "execution_count": 73,
   "id": "27ff51b0",
   "metadata": {},
   "outputs": [
    {
     "name": "stdout",
     "output_type": "stream",
     "text": [
      "Enter a commentThe Burrittos Blah\n"
     ]
    }
   ],
   "source": [
    "user_input=input(\"Enter a comment\")\n"
   ]
  },
  {
   "cell_type": "code",
   "execution_count": 74,
   "id": "13836d1d",
   "metadata": {},
   "outputs": [],
   "source": [
    "emotion=predict_emotion(user_input)\n"
   ]
  },
  {
   "cell_type": "code",
   "execution_count": 75,
   "id": "e8422a09",
   "metadata": {},
   "outputs": [
    {
     "name": "stdout",
     "output_type": "stream",
     "text": [
      "[0]\n"
     ]
    }
   ],
   "source": [
    "print(emotion)"
   ]
  },
  {
   "cell_type": "markdown",
   "id": "e84df39b",
   "metadata": {},
   "source": [
    "# KNeighborsClassifier"
   ]
  },
  {
   "cell_type": "code",
   "execution_count": 76,
   "id": "e62f4ec3",
   "metadata": {},
   "outputs": [],
   "source": [
    "knc=KNeighborsClassifier()\n"
   ]
  },
  {
   "cell_type": "code",
   "execution_count": 77,
   "id": "5c1516a8",
   "metadata": {},
   "outputs": [
    {
     "data": {
      "text/plain": [
       "KNeighborsClassifier()"
      ]
     },
     "execution_count": 77,
     "metadata": {},
     "output_type": "execute_result"
    }
   ],
   "source": [
    "knc.fit(X_train_tfidf,y_train)"
   ]
  },
  {
   "cell_type": "code",
   "execution_count": 78,
   "id": "9ea46735",
   "metadata": {},
   "outputs": [],
   "source": [
    "y_pred=knc.predict(X_train_tfidf)\n"
   ]
  },
  {
   "cell_type": "code",
   "execution_count": 79,
   "id": "271a22b4",
   "metadata": {},
   "outputs": [
    {
     "data": {
      "text/plain": [
       "0.8462686567164179"
      ]
     },
     "execution_count": 79,
     "metadata": {},
     "output_type": "execute_result"
    }
   ],
   "source": [
    "accuracy_score(y_train,y_pred)"
   ]
  },
  {
   "cell_type": "code",
   "execution_count": 80,
   "id": "8cfe2a9a",
   "metadata": {},
   "outputs": [],
   "source": [
    "y_pred=knc.predict(X_test_tfidf)\n"
   ]
  },
  {
   "cell_type": "code",
   "execution_count": 81,
   "id": "f71e31f1",
   "metadata": {},
   "outputs": [
    {
     "data": {
      "text/plain": [
       "0.7424242424242424"
      ]
     },
     "execution_count": 81,
     "metadata": {},
     "output_type": "execute_result"
    }
   ],
   "source": [
    "accuracy_score(y_test,y_pred)"
   ]
  },
  {
   "cell_type": "code",
   "execution_count": 82,
   "id": "cbbbd448",
   "metadata": {},
   "outputs": [],
   "source": [
    "cm=confusion_matrix(y_test,y_pred)"
   ]
  },
  {
   "cell_type": "code",
   "execution_count": 83,
   "id": "583f7df2",
   "metadata": {},
   "outputs": [
    {
     "data": {
      "text/plain": [
       "<AxesSubplot:>"
      ]
     },
     "execution_count": 83,
     "metadata": {},
     "output_type": "execute_result"
    },
    {
     "data": {
      "image/png": "[encoded data removed]",
      "text/plain": [
       "<Figure size 432x288 with 2 Axes>"
      ]
     },
     "metadata": {
      "needs_background": "light"
     },
     "output_type": "display_data"
    }
   ],
   "source": [
    "sns.heatmap(data=cm,fmt='d',annot=True)"
   ]
  },
  {
   "cell_type": "code",
   "execution_count": 84,
   "id": "1a332b2c",
   "metadata": {},
   "outputs": [
    {
     "name": "stdout",
     "output_type": "stream",
     "text": [
      "              precision    recall  f1-score   support\n",
      "\n",
      "           0       0.79      0.70      0.74       173\n",
      "           1       0.70      0.79      0.74       157\n",
      "\n",
      "    accuracy                           0.74       330\n",
      "   macro avg       0.75      0.74      0.74       330\n",
      "weighted avg       0.75      0.74      0.74       330\n",
      "\n"
     ]
    }
   ],
   "source": [
    "print(classification_report(y_test,y_pred))"
   ]
  },
  {
   "cell_type": "code",
   "execution_count": 85,
   "id": "8e62100d",
   "metadata": {},
   "outputs": [],
   "source": [
    "def predict_emotion(ele):\n",
    "    ele=[ele]\n",
    "    input_tfidf=tdidf_Vectorizer.transform(ele)\n",
    "    predicted_label=knc.predict(input_tfidf)\n",
    "    return predicted_label"
   ]
  },
  {
   "cell_type": "code",
   "execution_count": 86,
   "id": "f7f404d3",
   "metadata": {},
   "outputs": [
    {
     "name": "stdout",
     "output_type": "stream",
     "text": [
      "Enter a commentThey never brought a salad we asked for\n"
     ]
    }
   ],
   "source": [
    "user_input=input(\"Enter a comment\")\n"
   ]
  },
  {
   "cell_type": "code",
   "execution_count": 87,
   "id": "e8075a3d",
   "metadata": {},
   "outputs": [],
   "source": [
    "emotion=predict_emotion(user_input)\n"
   ]
  },
  {
   "cell_type": "code",
   "execution_count": 88,
   "id": "dbd2dfd4",
   "metadata": {},
   "outputs": [
    {
     "name": "stdout",
     "output_type": "stream",
     "text": [
      "[0]\n"
     ]
    }
   ],
   "source": [
    "print(emotion)"
   ]
  },
  {
   "cell_type": "markdown",
   "id": "83da3889",
   "metadata": {},
   "source": [
    "# XGBClassifier"
   ]
  },
  {
   "cell_type": "code",
   "execution_count": 89,
   "id": "5885bc42",
   "metadata": {},
   "outputs": [],
   "source": [
    "xgb_i=xgb.XGBClassifier()"
   ]
  },
  {
   "cell_type": "code",
   "execution_count": 90,
   "id": "4e3de2df",
   "metadata": {},
   "outputs": [
    {
     "data": {
      "text/plain": [
       "XGBClassifier(base_score=None, booster=None, callbacks=None,\n",
       "              colsample_bylevel=None, colsample_bynode=None,\n",
       "              colsample_bytree=None, early_stopping_rounds=None,\n",
       "              enable_categorical=False, eval_metric=None, feature_types=None,\n",
       "              gamma=None, gpu_id=None, grow_policy=None, importance_type=None,\n",
       "              interaction_constraints=None, learning_rate=None, max_bin=None,\n",
       "              max_cat_threshold=None, max_cat_to_onehot=None,\n",
       "              max_delta_step=None, max_depth=None, max_leaves=None,\n",
       "              min_child_weight=None, missing=nan, monotone_constraints=None,\n",
       "              n_estimators=100, n_jobs=None, num_parallel_tree=None,\n",
       "              predictor=None, random_state=None, ...)"
      ]
     },
     "execution_count": 90,
     "metadata": {},
     "output_type": "execute_result"
    }
   ],
   "source": [
    "xgb_i.fit(X_train_tfidf,y_train)"
   ]
  },
  {
   "cell_type": "code",
   "execution_count": 91,
   "id": "355aaa3b",
   "metadata": {},
   "outputs": [],
   "source": [
    "y_pred=xgb_i.predict(X_train_tfidf)\n"
   ]
  },
  {
   "cell_type": "code",
   "execution_count": 92,
   "id": "70b3d14d",
   "metadata": {},
   "outputs": [
    {
     "data": {
      "text/plain": [
       "0.9328358208955224"
      ]
     },
     "execution_count": 92,
     "metadata": {},
     "output_type": "execute_result"
    }
   ],
   "source": [
    "accuracy_score(y_train,y_pred)"
   ]
  },
  {
   "cell_type": "code",
   "execution_count": 93,
   "id": "f1deb415",
   "metadata": {},
   "outputs": [],
   "source": [
    "y_pred=xgb_i.predict(X_test_tfidf)\n"
   ]
  },
  {
   "cell_type": "code",
   "execution_count": 94,
   "id": "c07e537c",
   "metadata": {},
   "outputs": [
    {
     "data": {
      "text/plain": [
       "0.706060606060606"
      ]
     },
     "execution_count": 94,
     "metadata": {},
     "output_type": "execute_result"
    }
   ],
   "source": [
    "accuracy_score(y_test,y_pred)"
   ]
  },
  {
   "cell_type": "code",
   "execution_count": 95,
   "id": "1976d1a0",
   "metadata": {},
   "outputs": [],
   "source": [
    "cm=confusion_matrix(y_test,y_pred)"
   ]
  },
  {
   "cell_type": "code",
   "execution_count": 96,
   "id": "1bf501fb",
   "metadata": {},
   "outputs": [
    {
     "data": {
      "text/plain": [
       "<AxesSubplot:>"
      ]
     },
     "execution_count": 96,
     "metadata": {},
     "output_type": "execute_result"
    },
    {
     "data": {
      "image/png": "[encoded data removed]",
      "text/plain": [
       "<Figure size 432x288 with 2 Axes>"
      ]
     },
     "metadata": {
      "needs_background": "light"
     },
     "output_type": "display_data"
    }
   ],
   "source": [
    "sns.heatmap(data=cm,fmt='d',annot=True)"
   ]
  },
  {
   "cell_type": "code",
   "execution_count": 97,
   "id": "eb3368ea",
   "metadata": {},
   "outputs": [
    {
     "name": "stdout",
     "output_type": "stream",
     "text": [
      "              precision    recall  f1-score   support\n",
      "\n",
      "           0       0.70      0.78      0.74       173\n",
      "           1       0.72      0.62      0.67       157\n",
      "\n",
      "    accuracy                           0.71       330\n",
      "   macro avg       0.71      0.70      0.70       330\n",
      "weighted avg       0.71      0.71      0.70       330\n",
      "\n"
     ]
    }
   ],
   "source": [
    "print(classification_report(y_test,y_pred))"
   ]
  },
  {
   "cell_type": "code",
   "execution_count": 98,
   "id": "55106896",
   "metadata": {},
   "outputs": [],
   "source": [
    "def predict_emotion(ele):\n",
    "    ele=[ele]\n",
    "    input_tfidf=tdidf_Vectorizer.transform(ele)\n",
    "    predicted_label=xgb_i.predict(input_tfidf)\n",
    "    return predicted_label"
   ]
  },
  {
   "cell_type": "code",
   "execution_count": 99,
   "id": "300ee42e",
   "metadata": {},
   "outputs": [
    {
     "name": "stdout",
     "output_type": "stream",
     "text": [
      "Enter a commentThe only redeeming quality of the restaurant was that it was very inexpensive\n"
     ]
    }
   ],
   "source": [
    "user_input=input(\"Enter a comment\")\n"
   ]
  },
  {
   "cell_type": "code",
   "execution_count": 100,
   "id": "a68a2d95",
   "metadata": {},
   "outputs": [],
   "source": [
    "emotion=predict_emotion(user_input)\n"
   ]
  },
  {
   "cell_type": "code",
   "execution_count": 101,
   "id": "2af465ab",
   "metadata": {},
   "outputs": [
    {
     "name": "stdout",
     "output_type": "stream",
     "text": [
      "[0]\n"
     ]
    }
   ],
   "source": [
    "print(emotion)"
   ]
  },
  {
   "cell_type": "code",
   "execution_count": null,
   "id": "1a993313",
   "metadata": {},
   "outputs": [],
   "source": []
  },
  {
   "cell_type": "code",
   "execution_count": null,
   "id": "443de5aa",
   "metadata": {},
   "outputs": [],
   "source": []
  }
 ],
 "metadata": {
  "kernelspec": {
   "display_name": "Python 3 (ipykernel)",
   "language": "python",
   "name": "python3"
  },
  "language_info": {
   "codemirror_mode": {
    "name": "ipython",
    "version": 3
   },
   "file_extension": ".py",
   "mimetype": "text/x-python",
   "name": "python",
   "nbconvert_exporter": "python",
   "pygments_lexer": "ipython3",
   "version": "3.9.12"
  }
 },
 "nbformat": 4,
 "nbformat_minor": 5
}
